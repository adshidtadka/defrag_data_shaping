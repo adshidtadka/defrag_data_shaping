{
 "cells": [
  {
   "cell_type": "code",
   "execution_count": 1,
   "metadata": {
    "collapsed": false
   },
   "outputs": [
    {
     "name": "stdout",
     "output_type": "stream",
     "text": [
      "['blocked_205_b.csv', '.DS_Store', 'ssrr_lno_output.txt', 'ssrr_lno.lp', 'input_demands2.txt', 'ssr_lno_output.txt', 'input_demands1.txt', 'operation_num.csv', 'blocked_205_b.txt', 'ssr_lno.lp', 'ssr_lno_result.txt', 'ssr_lno_running.txt', 'ssrr_lno_result.txt']\n",
      "['blocked_205_b.csv', '.DS_Store', 'ssrr_lno_output.txt', 'ssrr_lno.lp', 'input_demands2.txt', 'ssr_lno_output.txt', 'input_demands1.txt', 'operation_num.csv', 'blocked_205_b.txt', 'ssr_lno.lp', 'ssr_lno_result.txt', 'ssr_lno_running.txt', 'ssrr_lno_result.txt']\n",
      "['blocked_205_b.csv', '.DS_Store', 'ssrr_lno_output.txt', 'ssrr_lno.lp', 'input_demands2.txt', 'ssr_lno_output.txt', 'input_demands1.txt', 'operation_num.csv', 'blocked_205_b.txt', 'ssr_lno.lp', 'ssr_lno_result.txt', 'ssr_lno_running.txt', 'ssrr_lno_result.txt']\n",
      "['blocked_205_b.csv', '.DS_Store', 'ssrr_lno_output.txt', 'ssrr_lno.lp', 'input_demands2.txt', 'ssr_lno_output.txt', 'input_demands1.txt', 'operation_num.csv', 'blocked_205_b.txt', 'ssr_lno.lp', 'ssr_lno_result.txt', 'ssr_lno_running.txt', 'ssrr_lno_result.txt']\n"
     ]
    }
   ],
   "source": [
    "import numpy as np \n",
    "import pandas as pd\n",
    "import matplotlib\n",
    "import matplotlib.pyplot as plt\n",
    "import os\n",
    "from pylab import rcParams\n",
    "print(os.listdir(\"../20180718_net14_speed0.1\"))\n",
    "print(os.listdir(\"../20180718_net14_speed0.2\"))\n",
    "print(os.listdir(\"../20180718_net14_speed0.4\"))\n",
    "print(os.listdir(\"../20180718_net14_speed0.5\"))"
   ]
  },
  {
   "cell_type": "code",
   "execution_count": 2,
   "metadata": {
    "collapsed": true
   },
   "outputs": [],
   "source": [
    "df_blocking_001 = pd.read_csv('../20180718_net14_speed0.1/blocked_205_b.csv', names = ('load', 'speed', 'Without defragmentation', 'Conventional', 'Proposed', 'Conventional with SSR-LNO', 'Proposed with SSRR-LNO') )\n",
    "df_blocking_002 = pd.read_csv('../20180718_net14_speed0.2/blocked_205_b.csv', names = ('load', 'speed', 'Without defragmentation', 'Conventional', 'Proposed', 'Conventional with SSR-LNO', 'Proposed with SSRR-LNO') )\n",
    "df_blocking_004 = pd.read_csv('../20180718_net14_speed0.4/blocked_205_b.csv', names = ('load', 'speed', 'Without defragmentation', 'Conventional', 'Proposed', 'Conventional with SSR-LNO', 'Proposed with SSRR-LNO') )\n",
    "df_blocking_005 = pd.read_csv('../20180718_net14_speed0.5/blocked_205_b.csv', names = ('load', 'speed', 'Without defragmentation', 'Conventional', 'Proposed', 'Conventional with SSR-LNO', 'Proposed with SSRR-LNO') )"
   ]
  },
  {
   "cell_type": "code",
   "execution_count": 3,
   "metadata": {
    "collapsed": false
   },
   "outputs": [
    {
     "name": "stdout",
     "output_type": "stream",
     "text": [
      "    load  speed  Without defragmentation  Conventional  Proposed  \\\n",
      "0    120      1                       25            14         0   \n",
      "1    130      1                       80            34         0   \n",
      "2    140      1                      171           106         0   \n",
      "3    150      1                      293           208         0   \n",
      "4    160      1                      437           339         0   \n",
      "5    170      1                      579           485         6   \n",
      "6    180      1                      761           634        31   \n",
      "7    190      1                      919           806        82   \n",
      "8    200      1                     1076           965       186   \n",
      "9    210      1                     1220          1123       303   \n",
      "10   220      1                     1374          1282       448   \n",
      "\n",
      "    Conventional with SSR-LNO  Proposed with SSRR-LNO  \n",
      "0                           0                       0  \n",
      "1                           0                       0  \n",
      "2                           0                       0  \n",
      "3                           0                       0  \n",
      "4                           0                       0  \n",
      "5                           0                       0  \n",
      "6                           0                       0  \n",
      "7                           0                       0  \n",
      "8                           0                       0  \n",
      "9                           0                       0  \n",
      "10                          0                       0  \n",
      "    load  speed  Without defragmentation  Conventional  Proposed  \\\n",
      "0    120      1                       25            12         0   \n",
      "1    130      1                       80            45         0   \n",
      "2    140      1                      171           114         0   \n",
      "3    150      1                      293           219         0   \n",
      "4    160      1                      437           351         0   \n",
      "5    170      1                      579           499         5   \n",
      "6    180      1                      761           662        29   \n",
      "7    190      1                      919           816        90   \n",
      "8    200      1                     1076           974       185   \n",
      "9    210      1                     1220          1139       315   \n",
      "10   220      1                     1374          1289       456   \n",
      "\n",
      "    Conventional with SSR-LNO  Proposed with SSRR-LNO  \n",
      "0                           0                       0  \n",
      "1                           0                       0  \n",
      "2                           0                       0  \n",
      "3                           0                       0  \n",
      "4                           0                       0  \n",
      "5                           0                       0  \n",
      "6                           0                       0  \n",
      "7                           0                       0  \n",
      "8                           0                       0  \n",
      "9                           0                       0  \n",
      "10                          0                       0  \n",
      "    load  speed  Without defragmentation  Conventional  Proposed  \\\n",
      "0    120      1                       25            12         0   \n",
      "1    130      1                       80            53         0   \n",
      "2    140      1                      171           120         0   \n",
      "3    150      1                      293           228         5   \n",
      "4    160      1                      437           365        35   \n",
      "5    170      1                      579           510       108   \n",
      "6    180      1                      761           654       211   \n",
      "7    190      1                      919           822       360   \n",
      "8    200      1                     1076           967       542   \n",
      "9    210      1                     1220          1117       673   \n",
      "10   220      1                     1374          1275       832   \n",
      "\n",
      "    Conventional with SSR-LNO  Proposed with SSRR-LNO  \n",
      "0                           0                       0  \n",
      "1                           0                       0  \n",
      "2                           0                       0  \n",
      "3                           0                       0  \n",
      "4                           0                       0  \n",
      "5                           0                       0  \n",
      "6                           0                       0  \n",
      "7                           0                       0  \n",
      "8                           0                       0  \n",
      "9                           0                       0  \n",
      "10                          0                       0  \n",
      "    load  speed  Without defragmentation  Conventional  Proposed  \\\n",
      "0    120      1                       25            15         0   \n",
      "1    130      1                       80            55         3   \n",
      "2    140      1                      171           118        29   \n",
      "3    150      1                      293           223        96   \n",
      "4    160      1                      437           349       224   \n",
      "5    170      1                      579           501       375   \n",
      "6    180      1                      761           657       529   \n",
      "7    190      1                      919           818       713   \n",
      "8    200      1                     1076           967       895   \n",
      "9    210      1                     1220          1108      1055   \n",
      "10   220      1                     1374          1276      1205   \n",
      "\n",
      "    Conventional with SSR-LNO  Proposed with SSRR-LNO  \n",
      "0                           0                       0  \n",
      "1                           0                       0  \n",
      "2                           0                       0  \n",
      "3                           0                       0  \n",
      "4                           0                       0  \n",
      "5                           0                       0  \n",
      "6                           0                       0  \n",
      "7                           0                       0  \n",
      "8                           0                       0  \n",
      "9                           0                       0  \n",
      "10                          0                       0  \n"
     ]
    }
   ],
   "source": [
    "print(df_blocking_001)\n",
    "print(df_blocking_002)\n",
    "print(df_blocking_004)\n",
    "print(df_blocking_005)"
   ]
  },
  {
   "cell_type": "code",
   "execution_count": 4,
   "metadata": {
    "collapsed": false
   },
   "outputs": [],
   "source": [
    "for index, row in df_blocking_001.iterrows():\n",
    "    df_blocking_001.loc[index, 'Without defragmentation':'Proposed with SSRR-LNO'] /= [10000, 10000, 10000, 10000, 10000]\n",
    "for index, row in df_blocking_002.iterrows():\n",
    "    df_blocking_002.loc[index, 'Without defragmentation':'Proposed with SSRR-LNO'] /= [10000, 10000, 10000, 10000, 10000]\n",
    "for index, row in df_blocking_004.iterrows():\n",
    "    df_blocking_004.loc[index, 'Without defragmentation':'Proposed with SSRR-LNO'] /= [10000, 10000, 10000, 10000, 10000]\n",
    "for index, row in df_blocking_005.iterrows():\n",
    "    df_blocking_005.loc[index, 'Without defragmentation':'Proposed with SSRR-LNO'] /= [10000, 10000, 10000, 10000, 10000]"
   ]
  },
  {
   "cell_type": "code",
   "execution_count": 7,
   "metadata": {
    "collapsed": true
   },
   "outputs": [],
   "source": [
    "plt.clf()\n",
    "plt.rcParams['figure.figsize'] = 30,24\n",
    "plt.rcParams['xtick.direction'] = 'in'#x軸の目盛線が内向き('in')か外向き('out')か双方向か('inout')\n",
    "plt.rcParams['ytick.direction'] = 'in'#y軸の目盛線が内向き('in')か外向き('out')か双方向か('inout')\n",
    "plt.rcParams['font.family'] ='Times New Roman'#使用するフォント\n",
    "plt.rcParams['font.size'] = 8 #フォントの大きさ\n",
    "plt.rcParams['axes.linewidth'] = 1.0# 軸の線幅edge linewidth。囲みの太さ"
   ]
  },
  {
   "cell_type": "code",
   "execution_count": 8,
   "metadata": {
    "collapsed": false
   },
   "outputs": [],
   "source": [
    "plt.yscale(\"log\")\n",
    "plt.plot(df_blocking_002['load'], df_blocking_002['Without defragmentation'], marker='x', markersize=12,  color=\"black\", linewidth=3)\n",
    "\n",
    "plt.plot(df_blocking_001['load'], df_blocking_001['Conventional'], label=('Conventional (' + r'$\\beta$' + ' = 0.1)'), marker='^', markersize=12,  color=\"red\", linewidth=3)\n",
    "plt.plot(df_blocking_001['load'], df_blocking_001['Proposed'], label=('Proposed (' + r'$\\beta$' + ' = 0.1)'), marker='.', markersize=12,  color=\"blue\", linewidth=3)\n",
    "\n",
    "# plt.plot(df_blocking_002['load'], df_blocking_002['Conventional'], label=('Conventional (' + r'$\\beta$' + ' = 0.2)'), marker='^', markersize=12,  color=\"red\", linewidth=3, linestyle='--')\n",
    "# plt.plot(df_blocking_002['load'], df_blocking_002['Proposed'], label=('Proposed (' + r'$\\beta$' + ' = 0.2)'), marker='.', markersize=12,  color=\"blue\", linewidth=3, linestyle='--')\n",
    "\n",
    "plt.plot(df_blocking_004['load'], df_blocking_004['Conventional'], label=('Conventional (' + r'$\\beta$' + ' = 0.4)'), marker='^', markersize=12,  color=\"red\", linewidth=3, linestyle=':')\n",
    "plt.plot(df_blocking_004['load'], df_blocking_004['Proposed'], label=('Proposed (' + r'$\\beta$' + ' = 0.4)'), marker='.', markersize=12,  color=\"blue\", linewidth=3, linestyle=':')\n",
    "\n",
    "plt.plot(df_blocking_005['load'], df_blocking_005['Conventional'], label=('Conventional (' + r'$\\beta$' + ' = 0.5)'), marker='^', markersize=12,  color=\"red\", linewidth=3, linestyle='-.')\n",
    "plt.plot(df_blocking_005['load'], df_blocking_005['Proposed'], label=('Proposed (' + r'$\\beta$' + ' = 0.5)'), marker='.', markersize=12,  color=\"blue\", linewidth=3, linestyle='-.')\n",
    "plt.xlabel(\"Traffic load [Erlang]\") # x軸のタイトル\n",
    "plt.ylabel(\"Blocking probability\") # y軸\n",
    "plt.legend(loc=\"upper left\")\n",
    "# plt.show()\n",
    "plt.savefig(\"../speeding_net14.pdf\")"
   ]
  },
  {
   "cell_type": "code",
   "execution_count": 163,
   "metadata": {
    "collapsed": false
   },
   "outputs": [
    {
     "data": {
      "text/plain": [
       "<Figure size 720x576 with 0 Axes>"
      ]
     },
     "metadata": {},
     "output_type": "display_data"
    }
   ],
   "source": []
  },
  {
   "cell_type": "code",
   "execution_count": null,
   "metadata": {
    "collapsed": true
   },
   "outputs": [],
   "source": []
  }
 ],
 "metadata": {
  "anaconda-cloud": {},
  "kernelspec": {
   "display_name": "Python [default]",
   "language": "python",
   "name": "python3"
  },
  "language_info": {
   "codemirror_mode": {
    "name": "ipython",
    "version": 3
   },
   "file_extension": ".py",
   "mimetype": "text/x-python",
   "name": "python",
   "nbconvert_exporter": "python",
   "pygments_lexer": "ipython3",
   "version": "3.5.2"
  }
 },
 "nbformat": 4,
 "nbformat_minor": 2
}
