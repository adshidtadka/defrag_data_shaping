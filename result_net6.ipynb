{
 "cells": [
  {
   "cell_type": "code",
   "execution_count": 1,
   "metadata": {
    "collapsed": false
   },
   "outputs": [
    {
     "name": "stdout",
     "output_type": "stream",
     "text": [
      "['blocked_205_b.csv', '.DS_Store', 'ssrr_lno_output.txt', 'ssrr_lno.lp', 'input_demands2.txt', 'ssr_lno_output.txt', 'input_demands1.txt', 'operation_num.csv', 'blocked_205_b.txt', 'ssr_lno.lp', 'ssr_lno_result.txt', 'ssr_lno_running.txt', 'ssrr_lno_result.txt']\n",
      "['blocked_205_b.csv', '.DS_Store', 'ssrr_lno_output.txt', 'ssrr_lno.lp', 'input_demands2.txt', 'ssr_lno_output.txt', 'input_demands1.txt', 'operation_num.csv', 'blocked_205_b.txt', 'ssr_lno.lp', 'ssr_lno_result.txt', 'ssr_lno_running.txt', 'ssrr_lno_result.txt']\n",
      "['blocked_205_b.csv', '.DS_Store', 'ssrr_lno_output.txt', 'ssrr_lno.lp', 'input_demands2.txt', 'ssr_lno_output.txt', 'input_demands1.txt', 'operation_num.csv', 'blocked_205_b.txt', 'ssr_lno.lp', 'ssr_lno_result.txt', 'ssr_lno_running.txt', 'ssrr_lno_result.txt']\n",
      "['blocked_205_b.csv', '.DS_Store', 'ssrr_lno_output.txt', 'ssrr_lno.lp', 'input_demands2.txt', 'ssr_lno_output.txt', 'input_demands1.txt', 'operation_num.csv', 'blocked_205_b.txt', 'ssr_lno.lp', 'ssr_lno_result.txt', 'ssr_lno_running.txt', 'ssrr_lno_result.txt']\n"
     ]
    }
   ],
   "source": [
    "import numpy as np \n",
    "import pandas as pd\n",
    "import matplotlib\n",
    "import matplotlib.pyplot as plt\n",
    "import os\n",
    "from pylab import rcParams\n",
    "print(os.listdir(\"../20180912_net6_2\"))\n",
    "print(os.listdir(\"../20180918_net6_3\"))\n",
    "print(os.listdir(\"../20180918_net6_4\"))\n",
    "print(os.listdir(\"../20180918_net6_5\"))"
   ]
  },
  {
   "cell_type": "code",
   "execution_count": 3,
   "metadata": {
    "collapsed": false
   },
   "outputs": [],
   "source": [
    "df_blocking_net6_2 = pd.read_csv('../20180912_net6_2/blocked_205_b.csv', names = ('load', 'speed', 'Without defragmentation', 'Conventional', 'Proposed', 'Conventional with SSR-LNO', 'Proposed with SSRR-LNO') )\n",
    "df_blocking_net6_3 = pd.read_csv('../20180918_net6_3/blocked_205_b.csv', names = ('load', 'speed', 'Without defragmentation', 'Conventional', 'Proposed', 'Conventional with SSR-LNO', 'Proposed with SSRR-LNO') )\n",
    "df_blocking_net6_4 = pd.read_csv('../20180918_net6_4/blocked_205_b.csv', names = ('load', 'speed', 'Without defragmentation', 'Conventional', 'Proposed', 'Conventional with SSR-LNO', 'Proposed with SSRR-LNO') )\n",
    "df_blocking_net6_5 = pd.read_csv('../20180918_net6_5/blocked_205_b.csv', names = ('load', 'speed', 'Without defragmentation', 'Conventional', 'Proposed', 'Conventional with SSR-LNO', 'Proposed with SSRR-LNO') )"
   ]
  },
  {
   "cell_type": "code",
   "execution_count": 4,
   "metadata": {
    "collapsed": false
   },
   "outputs": [],
   "source": [
    "for index, row in df_blocking_net6_2.iterrows():\n",
    "    df_blocking_net6_2.loc[index, 'Without defragmentation':'Proposed with SSRR-LNO'] /= [10000, 10000, 10000, 10000, 10000]\n",
    "for index, row in df_blocking_net6_3.iterrows():\n",
    "    df_blocking_net6_3.loc[index, 'Without defragmentation':'Proposed with SSRR-LNO'] /= [10000, 10000, 10000, 10000, 10000]\n",
    "for index, row in df_blocking_net6_4.iterrows():\n",
    "    df_blocking_net6_4.loc[index, 'Without defragmentation':'Proposed with SSRR-LNO'] /= [10000, 10000, 10000, 10000, 10000]\n",
    "for index, row in df_blocking_net6_5.iterrows():\n",
    "    df_blocking_net6_5.loc[index, 'Without defragmentation':'Proposed with SSRR-LNO'] /= [10000, 10000, 10000, 10000, 10000]"
   ]
  },
  {
   "cell_type": "code",
   "execution_count": 7,
   "metadata": {
    "collapsed": false
   },
   "outputs": [],
   "source": [
    "df_blocking_net6_2 = df_blocking_net6_2.replace('0', np.NaN)\n",
    "df_blocking_net6_3 = df_blocking_net6_3.replace('0', np.NaN)\n",
    "df_blocking_net6_4 = df_blocking_net6_4.replace('0', np.NaN)\n",
    "df_blocking_net6_5 = df_blocking_net6_5.replace('0', np.NaN)"
   ]
  },
  {
   "cell_type": "code",
   "execution_count": 21,
   "metadata": {
    "collapsed": true
   },
   "outputs": [],
   "source": [
    "plt.clf()\n",
    "plt.rcParams['figure.figsize'] = 30,24\n",
    "plt.rcParams['xtick.direction'] = 'in'#x軸の目盛線が内向き('in')か外向き('out')か双方向か('inout')\n",
    "plt.rcParams['ytick.direction'] = 'in'#y軸の目盛線が内向き('in')か外向き('out')か双方向か('inout')\n",
    "plt.rcParams['font.family'] ='Times New Roman'#使用するフォント\n",
    "plt.rcParams['font.size'] = 12 #フォントの大きさ\n",
    "plt.rcParams['axes.linewidth'] = 1.0# 軸の線幅edge linewidth。囲みの太さ"
   ]
  },
  {
   "cell_type": "code",
   "execution_count": 22,
   "metadata": {
    "collapsed": false
   },
   "outputs": [],
   "source": [
    "plt.yscale(\"log\")\n",
    "\n",
    "plt.plot(df_blocking_net6_2['load'], df_blocking_net6_2['Without defragmentation'], marker='x', markersize=6,  color=\"black\", linewidth=2)\n",
    "plt.plot(df_blocking_net6_2['load'], df_blocking_net6_2['Conventional'], label=('Conventional'), marker='^', markersize=6,  color=\"red\", linewidth=2)\n",
    "plt.plot(df_blocking_net6_2['load'], df_blocking_net6_2['Proposed'], label=('Proposed'), marker='.', markersize=6,  color=\"blue\", linewidth=2)\n",
    "\n",
    "plt.plot(df_blocking_net6_3['load'], df_blocking_net6_3['Without defragmentation'], marker='x', markersize=6,  color=\"black\", linewidth=2)\n",
    "plt.plot(df_blocking_net6_3['load'], df_blocking_net6_3['Conventional'], label=('Conventional'), marker='^', markersize=6,  color=\"red\", linewidth=2)\n",
    "plt.plot(df_blocking_net6_3['load'], df_blocking_net6_3['Proposed'], label=('Proposed'), marker='.', markersize=6,  color=\"blue\", linewidth=2)\n",
    "\n",
    "plt.plot(df_blocking_net6_4['load'], df_blocking_net6_4['Without defragmentation'], marker='x', markersize=6,  color=\"black\", linewidth=2)\n",
    "plt.plot(df_blocking_net6_4['load'], df_blocking_net6_4['Conventional'], label=('Conventional'), marker='^', markersize=6,  color=\"red\", linewidth=2)\n",
    "plt.plot(df_blocking_net6_4['load'], df_blocking_net6_4['Proposed'], label=('Proposed'), marker='.', markersize=6,  color=\"blue\", linewidth=2)\n",
    "\n",
    "plt.plot(df_blocking_net6_5['load'], df_blocking_net6_5['Without defragmentation'], marker='x', markersize=6,  color=\"black\", linewidth=2)\n",
    "plt.plot(df_blocking_net6_5['load'], df_blocking_net6_5['Conventional'], label=('Conventional'), marker='^', markersize=6,  color=\"red\", linewidth=2)\n",
    "plt.plot(df_blocking_net6_5['load'], df_blocking_net6_5['Proposed'], label=('Proposed'), marker='.', markersize=6,  color=\"blue\", linewidth=2)\n",
    "\n",
    "plt.xlabel(\"Traffic load [Erlang]\") # x軸のタイトル\n",
    "plt.ylabel(\"Blocking probability\") # y軸\n",
    "# plt.legend(loc=\"upper right\", fontsize=5)\n",
    "# plt.show()\n",
    "plt.savefig(\"../net6.pdf\")"
   ]
  },
  {
   "cell_type": "code",
   "execution_count": null,
   "metadata": {
    "collapsed": true
   },
   "outputs": [],
   "source": []
  }
 ],
 "metadata": {
  "anaconda-cloud": {},
  "kernelspec": {
   "display_name": "Python [default]",
   "language": "python",
   "name": "python3"
  },
  "language_info": {
   "codemirror_mode": {
    "name": "ipython",
    "version": 3
   },
   "file_extension": ".py",
   "mimetype": "text/x-python",
   "name": "python",
   "nbconvert_exporter": "python",
   "pygments_lexer": "ipython3",
   "version": "3.5.2"
  }
 },
 "nbformat": 4,
 "nbformat_minor": 2
}
