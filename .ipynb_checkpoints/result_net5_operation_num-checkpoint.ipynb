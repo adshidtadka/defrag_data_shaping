{
 "cells": [
  {
   "cell_type": "code",
   "execution_count": 2,
   "metadata": {
    "collapsed": false
   },
   "outputs": [
    {
     "name": "stdout",
     "output_type": "stream",
     "text": [
      "['blocked_205_b.csv', '.DS_Store', 'ssrr_lno_output.txt', 'ssrr_lno.lp', 'input_demands2.txt', 'ssr_lno_output.txt', 'input_demands1.txt', 'operation_num.csv', 'blocked_205_b.txt', 'ssr_lno.lp', 'ssr_lno_result.txt', 'ssr_lno_running.txt', 'ssrr_lno_result.txt']\n",
      "['blocked_205_b.csv', '.DS_Store', 'ssrr_lno_output.txt', 'ssrr_lno.lp', 'input_demands2.txt', 'ssr_lno_output.txt', 'input_demands1.txt', 'operation_num.csv', 'blocked_205_b.txt', 'ssr_lno.lp', 'ssr_lno_result.txt', 'ssr_lno_running.txt', 'ssrr_lno_result.txt']\n",
      "['blocked_205_b.csv', '.DS_Store', 'ssrr_lno_output.txt', 'ssrr_lno.lp', 'input_demands2.txt', 'ssr_lno_output.txt', 'input_demands1.txt', 'operation_num.csv', 'blocked_205_b.txt', 'ssr_lno.lp', 'ssr_lno_result.txt', 'ssr_lno_running.txt', 'ssrr_lno_result.txt']\n"
     ]
    }
   ],
   "source": [
    "import numpy as np \n",
    "import pandas as pd\n",
    "import matplotlib\n",
    "import matplotlib.pyplot as plt\n",
    "import os\n",
    "from pylab import rcParams\n",
    "print(os.listdir(\"../20180704_net5_speed0.2\"))\n",
    "print(os.listdir(\"../20180704_net5_speed0.5\"))\n",
    "print(os.listdir(\"../20180704_net5_speed1\"))"
   ]
  },
  {
   "cell_type": "code",
   "execution_count": 3,
   "metadata": {
    "collapsed": true
   },
   "outputs": [],
   "source": [
    "df_blocking_02 = pd.read_csv('../20180704_net5_speed0.2/blocked_205_b.csv', names = ('load', 'speed', 'Without defragmentation', 'Conventional', 'Proposed', 'Conventional with SSR-LNO', 'Proposed with SSRR-LNO') )\n",
    "df_blocking_05 = pd.read_csv('../20180704_net5_speed0.5/blocked_205_b.csv', names = ('load', 'speed', 'Without defragmentation', 'Conventional', 'Proposed', 'Conventional with SSR-LNO', 'Proposed with SSRR-LNO') )\n",
    "df_blocking_1 = pd.read_csv('../20180704_net5_speed1/blocked_205_b.csv', names = ('load', 'speed', 'Without defragmentation', 'Conventional', 'Proposed', 'Conventional with SSR-LNO', 'Proposed with SSRR-LNO') )"
   ]
  },
  {
   "cell_type": "code",
   "execution_count": 4,
   "metadata": {
    "collapsed": false
   },
   "outputs": [],
   "source": [
    "for index, row in df_blocking_02.iterrows():\n",
    "    df_blocking_02.loc[index, 'Without defragmentation':'Proposed with SSRR-LNO'] /= [10000, 10000, 10000, 10000, 10000]\n",
    "for index, row in df_blocking_05.iterrows():\n",
    "    df_blocking_05.loc[index, 'Without defragmentation':'Proposed with SSRR-LNO'] /= [10000, 10000, 10000, 10000, 10000]\n",
    "for index, row in df_blocking_1.iterrows():\n",
    "    df_blocking_1.loc[index, 'Without defragmentation':'Proposed with SSRR-LNO'] /= [10000, 10000, 10000, 10000, 10000]"
   ]
  },
  {
   "cell_type": "code",
   "execution_count": 5,
   "metadata": {
    "collapsed": false
   },
   "outputs": [],
   "source": [
    "df_blocking_02 = df_blocking_02.replace('0', np.nan)\n",
    "df_blocking_05 = df_blocking_05.replace('0', np.nan)\n",
    "df_blocking_1 = df_blocking_1.replace('0', np.nan)"
   ]
  },
  {
   "cell_type": "code",
   "execution_count": 6,
   "metadata": {
    "collapsed": false
   },
   "outputs": [
    {
     "name": "stdout",
     "output_type": "stream",
     "text": [
      "    load  Without defragmentation  Conventional  Proposed  Conventional  \\\n",
      "0     50                   0.0003           NaN       NaN           NaN   \n",
      "1     60                   0.0063        0.0021       NaN        0.0029   \n",
      "2     70                   0.0272        0.0149    0.0001        0.0173   \n",
      "3     80                   0.0598        0.0413    0.0040        0.0452   \n",
      "4     90                   0.0961        0.0737    0.0189        0.0807   \n",
      "5    100                   0.1300        0.1135    0.0473        0.1155   \n",
      "6    110                   0.1665        0.1475    0.0801        0.1486   \n",
      "7    120                   0.2004        0.1825    0.1165        0.1815   \n",
      "8    130                   0.2271        0.2097    0.1481        0.2125   \n",
      "9    140                   0.2539        0.2365    0.1767        0.2380   \n",
      "10   150                   0.2796        0.2632    0.2062        0.2636   \n",
      "\n",
      "    Proposed  Conventional  Proposed  \n",
      "0        NaN           NaN       NaN  \n",
      "1        NaN        0.0027    0.0003  \n",
      "2     0.0024        0.0180    0.0061  \n",
      "3     0.0170        0.0452    0.0301  \n",
      "4     0.0469        0.0791    0.0611  \n",
      "5     0.0806        0.1132    0.0965  \n",
      "6     0.1156        0.1508    0.1324  \n",
      "7     0.1504        0.1805    0.1663  \n",
      "8     0.1777        0.2128    0.1968  \n",
      "9     0.2103        0.2384    0.2226  \n",
      "10    0.2336        0.2630    0.2490  \n"
     ]
    }
   ],
   "source": [
    "print(pd.concat([df_blocking_02.loc[:, ['load', 'Without defragmentation' , 'Conventional', 'Proposed']], df_blocking_05.loc[:, [ 'Conventional', 'Proposed']], df_blocking_1.loc[:, [ 'Conventional', 'Proposed']]], axis=1))"
   ]
  },
  {
   "cell_type": "code",
   "execution_count": 7,
   "metadata": {
    "collapsed": false
   },
   "outputs": [],
   "source": [
    "plt.clf()\n",
    "plt.rcParams['figure.figsize'] = 30,24\n",
    "plt.rcParams['xtick.direction'] = 'in'#x軸の目盛線が内向き('in')か外向き('out')か双方向か('inout')\n",
    "plt.rcParams['ytick.direction'] = 'in'#y軸の目盛線が内向き('in')か外向き('out')か双方向か('inout')\n",
    "plt.rcParams['font.family'] ='Times New Roman'#使用するフォント\n",
    "plt.rcParams['font.size'] = 12 #フォントの大きさ\n",
    "plt.rcParams['axes.linewidth'] = 1.0# 軸の線幅edge linewidth。囲みの太さ"
   ]
  },
  {
   "cell_type": "code",
   "execution_count": 8,
   "metadata": {
    "collapsed": false
   },
   "outputs": [],
   "source": [
    "plt.yscale(\"log\")\n",
    "plt.plot(df_blocking_02['load'], df_blocking_02['Without defragmentation'], marker='x', markersize=12,  color=\"black\", linewidth=3)\n",
    "\n",
    "plt.plot(df_blocking_02['load'], df_blocking_02['Conventional'], label=('Conventional (' + r'$\\beta$' + ' = 0.2)'), marker='^', markersize=12,  color=\"red\", linewidth=3)\n",
    "plt.plot(df_blocking_02['load'], df_blocking_02['Proposed'], label=('Proposed (' + r'$\\beta$' + ' = 0.2)'), marker='.', markersize=12,  color=\"blue\", linewidth=3)\n",
    "\n",
    "plt.plot(df_blocking_05['load'], df_blocking_05['Conventional'], label=('Conventional (' + r'$\\beta$' + ' = 0.5)'), marker='^', markersize=12,  color=\"red\", linewidth=3, linestyle=':')\n",
    "plt.plot(df_blocking_05['load'], df_blocking_05['Proposed'], label=('Proposed (' + r'$\\beta$' + ' = 0.5)'), marker='.', markersize=12,  color=\"blue\", linewidth=3, linestyle=':')\n",
    "\n",
    "plt.plot(df_blocking_1['load'], df_blocking_1['Conventional'], label=('Conventional (' + r'$\\beta$' + ' = 1)'), marker='^', markersize=12,  color=\"red\", linewidth=3, linestyle='-.')\n",
    "plt.plot(df_blocking_1['load'], df_blocking_1['Proposed'], label=('Proposed (' + r'$\\beta$' + ' = 1)'), marker='.', markersize=12,  color=\"blue\", linewidth=3, linestyle='-.')\n",
    "\n",
    "plt.xlabel(\"Traffic load [Erlang]\") # x軸のタイトル\n",
    "plt.ylabel(\"Blocking probability\") # y軸\n",
    "plt.legend(loc=\"lower right\", fontsize=10)\n",
    "# plt.show()\n",
    "plt.savefig(\"../speeding_net5.pdf\")"
   ]
  },
  {
   "cell_type": "code",
   "execution_count": null,
   "metadata": {
    "collapsed": false
   },
   "outputs": [],
   "source": []
  },
  {
   "cell_type": "code",
   "execution_count": null,
   "metadata": {
    "collapsed": true
   },
   "outputs": [],
   "source": []
  }
 ],
 "metadata": {
  "anaconda-cloud": {},
  "kernelspec": {
   "display_name": "Python [default]",
   "language": "python",
   "name": "python3"
  },
  "language_info": {
   "codemirror_mode": {
    "name": "ipython",
    "version": 3
   },
   "file_extension": ".py",
   "mimetype": "text/x-python",
   "name": "python",
   "nbconvert_exporter": "python",
   "pygments_lexer": "ipython3",
   "version": "3.5.2"
  }
 },
 "nbformat": 4,
 "nbformat_minor": 2
}
