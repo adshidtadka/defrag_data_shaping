{
 "cells": [
  {
   "cell_type": "code",
   "execution_count": 2,
   "metadata": {
    "collapsed": false
   },
   "outputs": [
    {
     "name": "stdout",
     "output_type": "stream",
     "text": [
      "['result', '.DS_Store', 'create_network', 'network', '.gitignore', 'application', '.git']\n",
      "['result', '.DS_Store', 'create_network', 'network', '.gitignore', 'application', '.git']\n",
      "['result', '.DS_Store', 'create_network', 'network', '.gitignore', 'application', '.git']\n",
      "['result', '.DS_Store', 'create_network', 'network', '.gitignore', 'application', '.git']\n",
      "['result', '.DS_Store', 'create_network', 'network', '.gitignore', 'application', '.git']\n"
     ]
    }
   ],
   "source": [
    "import numpy as np \n",
    "import pandas as pd\n",
    "import matplotlib\n",
    "import matplotlib.pyplot as plt\n",
    "import os\n",
    "from pylab import rcParams\n",
    "print(os.listdir(\"../20180731_net11_rint_001\"))\n",
    "print(os.listdir(\"../20180731_net11_rint_01\"))\n",
    "print(os.listdir(\"../20180731_net11_rint_1\"))\n",
    "print(os.listdir(\"../20180731_net11_rint_10\"))\n",
    "print(os.listdir(\"../20180731_net11_rint_100\"))"
   ]
  },
  {
   "cell_type": "code",
   "execution_count": 3,
   "metadata": {
    "collapsed": false
   },
   "outputs": [],
   "source": [
    "df_blocking_001 = pd.read_csv('../20180731_net11_rint_001/result/blocked_205_b.csv', names = ('load', 'speed', 'Without defragmentation', 'Conventional', 'Proposed', 'Conventional with SSR-LNO', 'Proposed with SSRR-LNO') )\n",
    "df_blocking_01 = pd.read_csv('../20180731_net11_rint_01/result/blocked_205_b.csv', names = ('load', 'speed', 'Without defragmentation', 'Conventional', 'Proposed', 'Conventional with SSR-LNO', 'Proposed with SSRR-LNO') )\n",
    "df_blocking_1 = pd.read_csv('../20180731_net11_rint_1/result/blocked_205_b.csv', names = ('load', 'speed', 'Without defragmentation', 'Conventional', 'Proposed', 'Conventional with SSR-LNO', 'Proposed with SSRR-LNO') )\n",
    "df_blocking_10 = pd.read_csv('../20180731_net11_rint_10/result/blocked_205_b.csv', names = ('load', 'speed', 'Without defragmentation', 'Conventional', 'Proposed', 'Conventional with SSR-LNO', 'Proposed with SSRR-LNO') )\n",
    "df_blocking_100 = pd.read_csv('../20180731_net11_rint_100/result/blocked_205_b.csv', names = ('load', 'speed', 'Without defragmentation', 'Conventional', 'Proposed', 'Conventional with SSR-LNO', 'Proposed with SSRR-LNO') )"
   ]
  },
  {
   "cell_type": "code",
   "execution_count": 4,
   "metadata": {
    "collapsed": false
   },
   "outputs": [],
   "source": [
    "for index, row in df_blocking_001.iterrows():\n",
    "    df_blocking_001.loc[index, 'Without defragmentation':'Proposed with SSRR-LNO'] /= [10000, 10000, 10000, 10000, 10000]\n",
    "for index, row in df_blocking_01.iterrows():\n",
    "    df_blocking_01.loc[index, 'Without defragmentation':'Proposed with SSRR-LNO'] /= [10000, 10000, 10000, 10000, 10000]\n",
    "for index, row in df_blocking_1.iterrows():\n",
    "    df_blocking_1.loc[index, 'Without defragmentation':'Proposed with SSRR-LNO'] /= [10000, 10000, 10000, 10000, 10000]\n",
    "for index, row in df_blocking_10.iterrows():\n",
    "    df_blocking_10.loc[index, 'Without defragmentation':'Proposed with SSRR-LNO'] /= [10000, 10000, 10000, 10000, 10000]\n",
    "for index, row in df_blocking_100.iterrows():\n",
    "    df_blocking_100.loc[index, 'Without defragmentation':'Proposed with SSRR-LNO'] /= [10000, 10000, 10000, 10000, 10000]"
   ]
  },
  {
   "cell_type": "code",
   "execution_count": 5,
   "metadata": {
    "collapsed": false
   },
   "outputs": [
    {
     "data": {
      "text/html": [
       "<div>\n",
       "<table border=\"1\" class=\"dataframe\">\n",
       "  <thead>\n",
       "    <tr style=\"text-align: right;\">\n",
       "      <th></th>\n",
       "      <th>load</th>\n",
       "      <th>speed</th>\n",
       "      <th>Without defragmentation</th>\n",
       "      <th>Conventional</th>\n",
       "      <th>Proposed</th>\n",
       "      <th>Conventional with SSR-LNO</th>\n",
       "      <th>Proposed with SSRR-LNO</th>\n",
       "    </tr>\n",
       "  </thead>\n",
       "  <tbody>\n",
       "    <tr>\n",
       "      <th>0.01</th>\n",
       "      <td>80.0</td>\n",
       "      <td>1.0</td>\n",
       "      <td>0.0274</td>\n",
       "      <td>0.0111</td>\n",
       "      <td>0.0024</td>\n",
       "      <td>0.0</td>\n",
       "      <td>0.0</td>\n",
       "    </tr>\n",
       "    <tr>\n",
       "      <th>0.10</th>\n",
       "      <td>80.0</td>\n",
       "      <td>1.0</td>\n",
       "      <td>0.0274</td>\n",
       "      <td>0.0145</td>\n",
       "      <td>0.0027</td>\n",
       "      <td>0.0</td>\n",
       "      <td>0.0</td>\n",
       "    </tr>\n",
       "    <tr>\n",
       "      <th>1.00</th>\n",
       "      <td>80.0</td>\n",
       "      <td>1.0</td>\n",
       "      <td>0.0274</td>\n",
       "      <td>0.0218</td>\n",
       "      <td>0.0042</td>\n",
       "      <td>0.0</td>\n",
       "      <td>0.0</td>\n",
       "    </tr>\n",
       "    <tr>\n",
       "      <th>10.00</th>\n",
       "      <td>80.0</td>\n",
       "      <td>1.0</td>\n",
       "      <td>0.0274</td>\n",
       "      <td>0.0257</td>\n",
       "      <td>0.0101</td>\n",
       "      <td>0.0</td>\n",
       "      <td>0.0</td>\n",
       "    </tr>\n",
       "    <tr>\n",
       "      <th>100.00</th>\n",
       "      <td>80.0</td>\n",
       "      <td>1.0</td>\n",
       "      <td>0.0274</td>\n",
       "      <td>0.0257</td>\n",
       "      <td>0.0128</td>\n",
       "      <td>0.0</td>\n",
       "      <td>0.0</td>\n",
       "    </tr>\n",
       "  </tbody>\n",
       "</table>\n",
       "</div>"
      ],
      "text/plain": [
       "        load  speed  Without defragmentation  Conventional  Proposed  \\\n",
       "0.01    80.0    1.0                   0.0274        0.0111    0.0024   \n",
       "0.10    80.0    1.0                   0.0274        0.0145    0.0027   \n",
       "1.00    80.0    1.0                   0.0274        0.0218    0.0042   \n",
       "10.00   80.0    1.0                   0.0274        0.0257    0.0101   \n",
       "100.00  80.0    1.0                   0.0274        0.0257    0.0128   \n",
       "\n",
       "        Conventional with SSR-LNO  Proposed with SSRR-LNO  \n",
       "0.01                          0.0                     0.0  \n",
       "0.10                          0.0                     0.0  \n",
       "1.00                          0.0                     0.0  \n",
       "10.00                         0.0                     0.0  \n",
       "100.00                        0.0                     0.0  "
      ]
     },
     "execution_count": 5,
     "metadata": {},
     "output_type": "execute_result"
    }
   ],
   "source": [
    "df_ramda80 = pd.DataFrame(df_blocking_001.iloc[3]).T.rename(index={3:0.01})\n",
    "df_ramda80 = df_ramda80.append(pd.DataFrame(df_blocking_01.iloc[3]).T.rename(index={3:0.1}))\n",
    "df_ramda80 = df_ramda80.append(pd.DataFrame(df_blocking_1.iloc[3]).T.rename(index={3:1}))\n",
    "df_ramda80 = df_ramda80.append(pd.DataFrame(df_blocking_10.iloc[3]).T.rename(index={3:10}))\n",
    "df_ramda80 = df_ramda80.append(pd.DataFrame(df_blocking_100.iloc[3]).T.rename(index={3:100}))\n",
    "df_ramda80"
   ]
  },
  {
   "cell_type": "code",
   "execution_count": 17,
   "metadata": {
    "collapsed": true
   },
   "outputs": [],
   "source": [
    "plt.clf()\n",
    "plt.rcParams['figure.figsize'] = 15,12\n",
    "plt.rcParams['xtick.direction'] = 'in'#x軸の目盛線が内向き('in')か外向き('out')か双方向か('inout')\n",
    "plt.rcParams['ytick.direction'] = 'in'#y軸の目盛線が内向き('in')か外向き('out')か双方向か('inout')\n",
    "plt.rcParams['font.family'] ='Times New Roman'#使用するフォント\n",
    "plt.rcParams['font.size'] = 8 #フォントの大きさ\n",
    "plt.rcParams['axes.linewidth'] = 1.0# 軸の線幅edge linewidth。囲みの太さ"
   ]
  },
  {
   "cell_type": "code",
   "execution_count": 18,
   "metadata": {
    "collapsed": false
   },
   "outputs": [],
   "source": [
    "\n",
    "plt.xscale('log')\n",
    "\n",
    "plt.plot(df_ramda80.index, df_ramda80['Without defragmentation'], marker='x', markersize=12,  color=\"black\", linewidth=3)\n",
    "plt.plot(df_ramda80.index, df_ramda80['Conventional'],                   marker='^', markersize=12,  color=\"red\",    linewidth=3)\n",
    "plt.plot(df_ramda80.index, df_ramda80['Proposed'],                        marker='.',  markersize=12,  color=\"blue\",   linewidth=3)\n",
    "\n",
    "\n",
    "plt.xlabel(\"Interval Time\") # x軸のタイトル\n",
    "plt.ylabel(\"Blocking probability\") # y軸\n",
    "plt.legend(loc=\"lower right\")\n",
    "# plt.show()\n",
    "plt.savefig(\"../net11_lambda80.pdf\")"
   ]
  },
  {
   "cell_type": "code",
   "execution_count": null,
   "metadata": {
    "collapsed": true
   },
   "outputs": [],
   "source": []
  }
 ],
 "metadata": {
  "anaconda-cloud": {},
  "kernelspec": {
   "display_name": "Python [default]",
   "language": "python",
   "name": "python3"
  },
  "language_info": {
   "codemirror_mode": {
    "name": "ipython",
    "version": 3
   },
   "file_extension": ".py",
   "mimetype": "text/x-python",
   "name": "python",
   "nbconvert_exporter": "python",
   "pygments_lexer": "ipython3",
   "version": "3.5.2"
  }
 },
 "nbformat": 4,
 "nbformat_minor": 2
}
