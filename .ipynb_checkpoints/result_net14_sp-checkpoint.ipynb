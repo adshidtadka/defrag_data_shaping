{
 "cells": [
  {
   "cell_type": "code",
   "execution_count": 5,
   "metadata": {
    "collapsed": false
   },
   "outputs": [
    {
     "name": "stdout",
     "output_type": "stream",
     "text": [
      "['blocked_205_b.csv', '.DS_Store', 'ssrr_lno_output.txt', 'ssrr_lno.lp', 'input_demands2.txt', 'ssr_lno_output.txt', 'input_demands1.txt', 'operation_num.csv', 'blocked_205_b.txt', 'ssr_lno.lp', 'ssr_lno_result.txt', 'ssr_lno_running.txt', 'ssrr_lno_result.txt']\n",
      "['blocked_205_b.csv', '.DS_Store', 'ssrr_lno_output.txt', 'ssrr_lno.lp', 'input_demands2.txt', 'ssr_lno_output.txt', 'input_demands1.txt', 'operation_num.csv', 'blocked_205_b.txt', 'ssr_lno.lp', 'ssr_lno_result.txt', 'ssr_lno_running.txt', 'ssrr_lno_result.txt']\n",
      "['blocked_205_b.csv', '.DS_Store', 'ssrr_lno_output.txt', 'ssrr_lno.lp', 'input_demands2.txt', 'ssr_lno_output.txt', 'input_demands1.txt', 'operation_num.csv', 'blocked_205_b.txt', 'ssr_lno.lp', 'ssr_lno_result.txt', 'ssr_lno_running.txt', 'ssrr_lno_result.txt']\n"
     ]
    }
   ],
   "source": [
    "import numpy as np \n",
    "import pandas as pd\n",
    "import matplotlib\n",
    "import matplotlib.pyplot as plt\n",
    "import os\n",
    "from pylab import rcParams\n",
    "print(os.listdir(\"../20180706_net14_speed0.1\"))\n",
    "print(os.listdir(\"../20180706_net14_speed0.2\"))\n",
    "print(os.listdir(\"../20180706_net14_speed0.5\"))"
   ]
  },
  {
   "cell_type": "code",
   "execution_count": 7,
   "metadata": {
    "collapsed": true
   },
   "outputs": [],
   "source": [
    "df_blocking_001 = pd.read_csv('../20180706_net14_speed0.1/blocked_205_b.csv', names = ('load', 'speed', 'Without defragmentation', 'Conventional', 'Proposed', 'Conventional with SSR-LNO', 'Proposed with SSRR-LNO') )\n",
    "df_blocking_002 = pd.read_csv('../20180706_net14_speed0.2/blocked_205_b.csv', names = ('load', 'speed', 'Without defragmentation', 'Conventional', 'Proposed', 'Conventional with SSR-LNO', 'Proposed with SSRR-LNO') )\n",
    "df_blocking_005 = pd.read_csv('../20180706_net14_speed0.5/blocked_205_b.csv', names = ('load', 'speed', 'Without defragmentation', 'Conventional', 'Proposed', 'Conventional with SSR-LNO', 'Proposed with SSRR-LNO') )"
   ]
  },
  {
   "cell_type": "code",
   "execution_count": 8,
   "metadata": {
    "collapsed": false
   },
   "outputs": [
    {
     "name": "stdout",
     "output_type": "stream",
     "text": [
      "    load  speed  Without defragmentation  Conventional  Proposed  \\\n",
      "0    120      1                       25            15         0   \n",
      "1    130      1                       82            32         0   \n",
      "2    140      1                      170           105         0   \n",
      "3    150      1                      297           206         0   \n",
      "4    160      1                      442           349         0   \n",
      "5    170      1                      578           493         8   \n",
      "6    180      1                      762           634        33   \n",
      "7    190      1                      930           807        86   \n",
      "8    200      1                     1069           973       191   \n",
      "9    210      1                     1221          1129       309   \n",
      "10   220      1                     1373          1297       445   \n",
      "\n",
      "    Conventional with SSR-LNO  Proposed with SSRR-LNO  \n",
      "0                           0                       0  \n",
      "1                           0                       0  \n",
      "2                           0                       0  \n",
      "3                           0                       0  \n",
      "4                           0                       0  \n",
      "5                           0                       0  \n",
      "6                           0                       0  \n",
      "7                           0                       0  \n",
      "8                           0                       0  \n",
      "9                           0                       0  \n",
      "10                          0                       0  \n",
      "    load  speed  Without defragmentation  Conventional  Proposed  \\\n",
      "0    120      1                       25            12         0   \n",
      "1    130      1                       82            49         0   \n",
      "2    140      1                      170           114         0   \n",
      "3    150      1                      297           224         0   \n",
      "4    160      1                      442           350         0   \n",
      "5    170      1                      578           491         6   \n",
      "6    180      1                      762           673        33   \n",
      "7    190      1                      930           811        92   \n",
      "8    200      1                     1069           979       194   \n",
      "9    210      1                     1221          1141       314   \n",
      "10   220      1                     1373          1289       447   \n",
      "\n",
      "    Conventional with SSR-LNO  Proposed with SSRR-LNO  \n",
      "0                           0                       0  \n",
      "1                           0                       0  \n",
      "2                           0                       0  \n",
      "3                           0                       0  \n",
      "4                           0                       0  \n",
      "5                           0                       0  \n",
      "6                           0                       0  \n",
      "7                           0                       0  \n",
      "8                           0                       0  \n",
      "9                           0                       0  \n",
      "10                          0                       0  \n",
      "    load  speed  Without defragmentation  Conventional  Proposed  \\\n",
      "0    120      1                       25            15         0   \n",
      "1    130      1                       82            53         3   \n",
      "2    140      1                      170           122        28   \n",
      "3    150      1                      297           228       101   \n",
      "4    160      1                      442           352       222   \n",
      "5    170      1                      578           508       369   \n",
      "6    180      1                      762           662       518   \n",
      "7    190      1                      930           823       725   \n",
      "8    200      1                     1069           974       905   \n",
      "9    210      1                     1221          1100      1057   \n",
      "10   220      1                     1373          1272      1209   \n",
      "\n",
      "    Conventional with SSR-LNO  Proposed with SSRR-LNO  \n",
      "0                           0                       0  \n",
      "1                           0                       0  \n",
      "2                           0                       0  \n",
      "3                           0                       0  \n",
      "4                           0                       0  \n",
      "5                           0                       0  \n",
      "6                           0                       0  \n",
      "7                           0                       0  \n",
      "8                           0                       0  \n",
      "9                           0                       0  \n",
      "10                          0                       0  \n"
     ]
    }
   ],
   "source": [
    "print(df_blocking_001)\n",
    "print(df_blocking_002)\n",
    "print(df_blocking_005)"
   ]
  },
  {
   "cell_type": "code",
   "execution_count": 9,
   "metadata": {
    "collapsed": false
   },
   "outputs": [],
   "source": [
    "for index, row in df_blocking_001.iterrows():\n",
    "    df_blocking_001.loc[index, 'Without defragmentation':'Proposed with SSRR-LNO'] /= [10000, 10000, 10000, 10000, 10000]\n",
    "for index, row in df_blocking_002.iterrows():\n",
    "    df_blocking_002.loc[index, 'Without defragmentation':'Proposed with SSRR-LNO'] /= [10000, 10000, 10000, 10000, 10000]\n",
    "for index, row in df_blocking_005.iterrows():\n",
    "    df_blocking_005.loc[index, 'Without defragmentation':'Proposed with SSRR-LNO'] /= [10000, 10000, 10000, 10000, 10000]"
   ]
  },
  {
   "cell_type": "code",
   "execution_count": 10,
   "metadata": {
    "collapsed": false
   },
   "outputs": [
    {
     "data": {
      "text/html": [
       "<div>\n",
       "<table border=\"1\" class=\"dataframe\">\n",
       "  <thead>\n",
       "    <tr style=\"text-align: right;\">\n",
       "      <th></th>\n",
       "      <th>load</th>\n",
       "      <th>speed</th>\n",
       "      <th>Without defragmentation</th>\n",
       "      <th>Conventional</th>\n",
       "      <th>Proposed</th>\n",
       "      <th>Conventional with SSR-LNO</th>\n",
       "      <th>Proposed with SSRR-LNO</th>\n",
       "    </tr>\n",
       "  </thead>\n",
       "  <tbody>\n",
       "    <tr>\n",
       "      <th>0</th>\n",
       "      <td>120</td>\n",
       "      <td>1</td>\n",
       "      <td>0.0025</td>\n",
       "      <td>0.0015</td>\n",
       "      <td>0.0000</td>\n",
       "      <td>0.0</td>\n",
       "      <td>0.0</td>\n",
       "    </tr>\n",
       "    <tr>\n",
       "      <th>1</th>\n",
       "      <td>130</td>\n",
       "      <td>1</td>\n",
       "      <td>0.0082</td>\n",
       "      <td>0.0032</td>\n",
       "      <td>0.0000</td>\n",
       "      <td>0.0</td>\n",
       "      <td>0.0</td>\n",
       "    </tr>\n",
       "    <tr>\n",
       "      <th>2</th>\n",
       "      <td>140</td>\n",
       "      <td>1</td>\n",
       "      <td>0.0170</td>\n",
       "      <td>0.0105</td>\n",
       "      <td>0.0000</td>\n",
       "      <td>0.0</td>\n",
       "      <td>0.0</td>\n",
       "    </tr>\n",
       "    <tr>\n",
       "      <th>3</th>\n",
       "      <td>150</td>\n",
       "      <td>1</td>\n",
       "      <td>0.0297</td>\n",
       "      <td>0.0206</td>\n",
       "      <td>0.0000</td>\n",
       "      <td>0.0</td>\n",
       "      <td>0.0</td>\n",
       "    </tr>\n",
       "    <tr>\n",
       "      <th>4</th>\n",
       "      <td>160</td>\n",
       "      <td>1</td>\n",
       "      <td>0.0442</td>\n",
       "      <td>0.0349</td>\n",
       "      <td>0.0000</td>\n",
       "      <td>0.0</td>\n",
       "      <td>0.0</td>\n",
       "    </tr>\n",
       "    <tr>\n",
       "      <th>5</th>\n",
       "      <td>170</td>\n",
       "      <td>1</td>\n",
       "      <td>0.0578</td>\n",
       "      <td>0.0493</td>\n",
       "      <td>0.0008</td>\n",
       "      <td>0.0</td>\n",
       "      <td>0.0</td>\n",
       "    </tr>\n",
       "    <tr>\n",
       "      <th>6</th>\n",
       "      <td>180</td>\n",
       "      <td>1</td>\n",
       "      <td>0.0762</td>\n",
       "      <td>0.0634</td>\n",
       "      <td>0.0033</td>\n",
       "      <td>0.0</td>\n",
       "      <td>0.0</td>\n",
       "    </tr>\n",
       "    <tr>\n",
       "      <th>7</th>\n",
       "      <td>190</td>\n",
       "      <td>1</td>\n",
       "      <td>0.0930</td>\n",
       "      <td>0.0807</td>\n",
       "      <td>0.0086</td>\n",
       "      <td>0.0</td>\n",
       "      <td>0.0</td>\n",
       "    </tr>\n",
       "    <tr>\n",
       "      <th>8</th>\n",
       "      <td>200</td>\n",
       "      <td>1</td>\n",
       "      <td>0.1069</td>\n",
       "      <td>0.0973</td>\n",
       "      <td>0.0191</td>\n",
       "      <td>0.0</td>\n",
       "      <td>0.0</td>\n",
       "    </tr>\n",
       "    <tr>\n",
       "      <th>9</th>\n",
       "      <td>210</td>\n",
       "      <td>1</td>\n",
       "      <td>0.1221</td>\n",
       "      <td>0.1129</td>\n",
       "      <td>0.0309</td>\n",
       "      <td>0.0</td>\n",
       "      <td>0.0</td>\n",
       "    </tr>\n",
       "    <tr>\n",
       "      <th>10</th>\n",
       "      <td>220</td>\n",
       "      <td>1</td>\n",
       "      <td>0.1373</td>\n",
       "      <td>0.1297</td>\n",
       "      <td>0.0445</td>\n",
       "      <td>0.0</td>\n",
       "      <td>0.0</td>\n",
       "    </tr>\n",
       "  </tbody>\n",
       "</table>\n",
       "</div>"
      ],
      "text/plain": [
       "    load  speed  Without defragmentation  Conventional  Proposed  \\\n",
       "0    120      1                   0.0025        0.0015    0.0000   \n",
       "1    130      1                   0.0082        0.0032    0.0000   \n",
       "2    140      1                   0.0170        0.0105    0.0000   \n",
       "3    150      1                   0.0297        0.0206    0.0000   \n",
       "4    160      1                   0.0442        0.0349    0.0000   \n",
       "5    170      1                   0.0578        0.0493    0.0008   \n",
       "6    180      1                   0.0762        0.0634    0.0033   \n",
       "7    190      1                   0.0930        0.0807    0.0086   \n",
       "8    200      1                   0.1069        0.0973    0.0191   \n",
       "9    210      1                   0.1221        0.1129    0.0309   \n",
       "10   220      1                   0.1373        0.1297    0.0445   \n",
       "\n",
       "    Conventional with SSR-LNO  Proposed with SSRR-LNO  \n",
       "0                         0.0                     0.0  \n",
       "1                         0.0                     0.0  \n",
       "2                         0.0                     0.0  \n",
       "3                         0.0                     0.0  \n",
       "4                         0.0                     0.0  \n",
       "5                         0.0                     0.0  \n",
       "6                         0.0                     0.0  \n",
       "7                         0.0                     0.0  \n",
       "8                         0.0                     0.0  \n",
       "9                         0.0                     0.0  \n",
       "10                        0.0                     0.0  "
      ]
     },
     "execution_count": 10,
     "metadata": {},
     "output_type": "execute_result"
    }
   ],
   "source": [
    "df_blocking_001"
   ]
  },
  {
   "cell_type": "code",
   "execution_count": 31,
   "metadata": {
    "collapsed": true
   },
   "outputs": [],
   "source": [
    "plt.clf()\n",
    "plt.rcParams['figure.figsize'] = 30,24\n",
    "plt.rcParams['xtick.direction'] = 'in'#x軸の目盛線が内向き('in')か外向き('out')か双方向か('inout')\n",
    "plt.rcParams['ytick.direction'] = 'in'#y軸の目盛線が内向き('in')か外向き('out')か双方向か('inout')\n",
    "plt.rcParams['font.family'] ='Times New Roman'#使用するフォント\n",
    "plt.rcParams['font.size'] = 8 #フォントの大きさ\n",
    "plt.rcParams['axes.linewidth'] = 1.0# 軸の線幅edge linewidth。囲みの太さ"
   ]
  },
  {
   "cell_type": "code",
   "execution_count": 32,
   "metadata": {
    "collapsed": false
   },
   "outputs": [],
   "source": [
    "plt.yscale(\"log\")\n",
    "plt.plot(df_blocking_002['load'], df_blocking_002['Without defragmentation'], marker='x', markersize=12,  color=\"black\", linewidth=3)\n",
    "\n",
    "plt.plot(df_blocking_001['load'], df_blocking_001['Conventional'], label=('Conventional (' + r'$\\beta$' + ' = 0.01)'), marker='^', markersize=12,  color=\"red\", linewidth=3)\n",
    "plt.plot(df_blocking_001['load'], df_blocking_001['Proposed'], label=('Proposed (' + r'$\\beta$' + ' = 0.01)'), marker='.', markersize=12,  color=\"blue\", linewidth=3)\n",
    "\n",
    "plt.plot(df_blocking_002['load'], df_blocking_002['Conventional'], label=('Conventional (' + r'$\\beta$' + ' = 0.02)'), marker='^', markersize=12,  color=\"red\", linewidth=3, linestyle='--')\n",
    "plt.plot(df_blocking_002['load'], df_blocking_002['Proposed'], label=('Proposed (' + r'$\\beta$' + ' = 0.02)'), marker='.', markersize=12,  color=\"blue\", linewidth=3, linestyle='--')\n",
    "\n",
    "plt.plot(df_blocking_005['load'], df_blocking_005['Conventional'], label=('Conventional (' + r'$\\beta$' + ' = 0.1)'), marker='^', markersize=12,  color=\"red\", linewidth=3, linestyle='-.')\n",
    "plt.plot(df_blocking_005['load'], df_blocking_005['Proposed'], label=('Proposed (' + r'$\\beta$' + ' = 0.1)'), marker='.', markersize=12,  color=\"blue\", linewidth=3, linestyle='-.')\n",
    "plt.xlabel(\"Traffic load [Erlang]\") # x軸のタイトル\n",
    "plt.ylabel(\"Blocking probability\") # y軸\n",
    "plt.legend(loc=\"upper left\")\n",
    "# plt.show()\n",
    "plt.savefig(\"../speeding_net14.pdf\")"
   ]
  },
  {
   "cell_type": "code",
   "execution_count": 163,
   "metadata": {
    "collapsed": false
   },
   "outputs": [
    {
     "data": {
      "text/plain": [
       "<Figure size 720x576 with 0 Axes>"
      ]
     },
     "metadata": {},
     "output_type": "display_data"
    }
   ],
   "source": []
  },
  {
   "cell_type": "code",
   "execution_count": null,
   "metadata": {
    "collapsed": true
   },
   "outputs": [],
   "source": []
  }
 ],
 "metadata": {
  "anaconda-cloud": {},
  "kernelspec": {
   "display_name": "Python [default]",
   "language": "python",
   "name": "python3"
  },
  "language_info": {
   "codemirror_mode": {
    "name": "ipython",
    "version": 3
   },
   "file_extension": ".py",
   "mimetype": "text/x-python",
   "name": "python",
   "nbconvert_exporter": "python",
   "pygments_lexer": "ipython3",
   "version": "3.5.2"
  }
 },
 "nbformat": 4,
 "nbformat_minor": 2
}
