{
 "cells": [
  {
   "cell_type": "code",
   "execution_count": 13,
   "metadata": {
    "collapsed": false
   },
   "outputs": [
    {
     "name": "stdout",
     "output_type": "stream",
     "text": [
      "['blocked_205_b.csv', '.DS_Store', 'ssrr_lno_output.txt', 'ssrr_lno.lp', 'input_demands2.txt', 'ssr_lno_output.txt', 'input_demands1.txt', 'operation_num.csv', 'blocked_205_b.txt', 'ssr_lno.lp', 'ssr_lno_result.txt', 'ssr_lno_running.txt', 'ssrr_lno_result.txt']\n",
      "['blocked_205_b.csv', '.DS_Store', 'ssrr_lno_output.txt', 'ssrr_lno.lp', 'input_demands2.txt', 'ssr_lno_output.txt', 'input_demands1.txt', 'operation_num.csv', 'blocked_205_b.txt', 'ssr_lno.lp', 'ssr_lno_result.txt', 'ssr_lno_running.txt', 'ssrr_lno_result.txt']\n",
      "['blocked_205_b.csv', '.DS_Store', 'ssrr_lno_output.txt', 'ssrr_lno.lp', 'input_demands2.txt', 'ssr_lno_output.txt', 'input_demands1.txt', 'operation_num.csv', 'blocked_205_b.txt', 'ssr_lno.lp', 'ssr_lno_result.txt', 'ssr_lno_running.txt', 'ssrr_lno_result.txt']\n",
      "['blocked_205_b.csv', '.DS_Store', 'ssrr_lno_output.txt', 'ssrr_lno.lp', 'input_demands2.txt', 'ssr_lno_output.txt', 'input_demands1.txt', 'operation_num.csv', 'blocked_205_b.txt', 'ssr_lno.lp', 'ssr_lno_result.txt', 'ssr_lno_running.txt', 'ssrr_lno_result.txt']\n"
     ]
    }
   ],
   "source": [
    "import numpy as np \n",
    "import pandas as pd\n",
    "import matplotlib\n",
    "import matplotlib.pyplot as plt\n",
    "import os\n",
    "from pylab import rcParams\n",
    "print(os.listdir(\"../20180912_net6_2\"))\n",
    "print(os.listdir(\"../20180912_net6_3\"))\n",
    "print(os.listdir(\"../20180914_net6_4\"))\n",
    "print(os.listdir(\"../20180917_net6_5\"))"
   ]
  },
  {
   "cell_type": "code",
   "execution_count": 14,
   "metadata": {
    "collapsed": false
   },
   "outputs": [],
   "source": [
    "df_blocking_net6_2 = pd.read_csv('../20180912_net6_2/blocked_205_b.csv', names = ('load', 'speed', 'Without defragmentation', 'Conventional', 'Proposed', 'Conventional with SSR-LNO', 'Proposed with SSRR-LNO') )\n",
    "df_blocking_net6_3 = pd.read_csv('../20180912_net6_3/blocked_205_b.csv', names = ('load', 'speed', 'Without defragmentation', 'Conventional', 'Proposed', 'Conventional with SSR-LNO', 'Proposed with SSRR-LNO') )\n",
    "df_blocking_net6_4 = pd.read_csv('../20180914_net6_4/blocked_205_b.csv', names = ('load', 'speed', 'Without defragmentation', 'Conventional', 'Proposed', 'Conventional with SSR-LNO', 'Proposed with SSRR-LNO') )\n",
    "df_blocking_net6_5 = pd.read_csv('../20180917_net6_5/blocked_205_b.csv', names = ('load', 'speed', 'Without defragmentation', 'Conventional', 'Proposed', 'Conventional with SSR-LNO', 'Proposed with SSRR-LNO') )"
   ]
  },
  {
   "cell_type": "code",
   "execution_count": 15,
   "metadata": {
    "collapsed": false
   },
   "outputs": [],
   "source": [
    "for index, row in df_blocking_net6_2.iterrows():\n",
    "    df_blocking_net6_2.loc[index, 'Without defragmentation':'Proposed with SSRR-LNO'] /= [10000, 10000, 10000, 10000, 10000]\n",
    "for index, row in df_blocking_net6_3.iterrows():\n",
    "    df_blocking_net6_3.loc[index, 'Without defragmentation':'Proposed with SSRR-LNO'] /= [10000, 10000, 10000, 10000, 10000]\n",
    "for index, row in df_blocking_net6_4.iterrows():\n",
    "    df_blocking_net6_4.loc[index, 'Without defragmentation':'Proposed with SSRR-LNO'] /= [10000, 10000, 10000, 10000, 10000]\n",
    "for index, row in df_blocking_net6_5.iterrows():\n",
    "    df_blocking_net6_5.loc[index, 'Without defragmentation':'Proposed with SSRR-LNO'] /= [10000, 10000, 10000, 10000, 10000]"
   ]
  },
  {
   "cell_type": "code",
   "execution_count": 24,
   "metadata": {
    "collapsed": false
   },
   "outputs": [
    {
     "name": "stdout",
     "output_type": "stream",
     "text": [
      "   load  speed  Without defragmentation  Conventional  Proposed  \\\n",
      "0   200      1                   0.0005        0.0000       0.0   \n",
      "1   210      1                   0.0007        0.0002       0.0   \n",
      "2   220      1                   0.0020        0.0004       0.0   \n",
      "3   230      1                   0.0038        0.0008       0.0   \n",
      "4   240      1                   0.0060        0.0021       0.0   \n",
      "5   250      1                   0.0094        0.0046       0.0   \n",
      "6   260      1                   0.0147        0.0072       0.0   \n",
      "7   270      1                   0.0212        0.0110       0.0   \n",
      "\n",
      "   Conventional with SSR-LNO  Proposed with SSRR-LNO  \n",
      "0                        0.0                     0.0  \n",
      "1                        0.0                     0.0  \n",
      "2                        0.0                     0.0  \n",
      "3                        0.0                     0.0  \n",
      "4                        0.0                     0.0  \n",
      "5                        0.0                     0.0  \n",
      "6                        0.0                     0.0  \n",
      "7                        0.0                     0.0  \n"
     ]
    }
   ],
   "source": [
    "print(df_blocking_net6_5)"
   ]
  },
  {
   "cell_type": "code",
   "execution_count": 16,
   "metadata": {
    "collapsed": true
   },
   "outputs": [],
   "source": [
    "plt.clf()\n",
    "plt.rcParams['figure.figsize'] = 30,24\n",
    "plt.rcParams['xtick.direction'] = 'in'#x軸の目盛線が内向き('in')か外向き('out')か双方向か('inout')\n",
    "plt.rcParams['ytick.direction'] = 'in'#y軸の目盛線が内向き('in')か外向き('out')か双方向か('inout')\n",
    "plt.rcParams['font.family'] ='Times New Roman'#使用するフォント\n",
    "plt.rcParams['font.size'] = 3 #フォントの大きさ\n",
    "plt.rcParams['axes.linewidth'] = 1.0# 軸の線幅edge linewidth。囲みの太さ"
   ]
  },
  {
   "cell_type": "code",
   "execution_count": 17,
   "metadata": {
    "collapsed": false
   },
   "outputs": [],
   "source": [
    "plt.yscale(\"log\")\n",
    "\n",
    "plt.plot(df_blocking_net6_2['load'], df_blocking_net6_2['Without defragmentation'], marker='x', markersize=6,  color=\"black\", linewidth=3)\n",
    "plt.plot(df_blocking_net6_2['load'], df_blocking_net6_2['Conventional'], label=('Conventional'), marker='^', markersize=6,  color=\"red\", linewidth=3)\n",
    "plt.plot(df_blocking_net6_2['load'], df_blocking_net6_2['Proposed'], label=('Proposed'), marker='.', markersize=6,  color=\"blue\", linewidth=3)\n",
    "\n",
    "plt.plot(df_blocking_net6_3['load'], df_blocking_net6_3['Without defragmentation'], marker='x', markersize=6,  color=\"black\", linewidth=3)\n",
    "plt.plot(df_blocking_net6_3['load'], df_blocking_net6_3['Conventional'], label=('Conventional'), marker='^', markersize=6,  color=\"red\", linewidth=3)\n",
    "plt.plot(df_blocking_net6_3['load'], df_blocking_net6_3['Proposed'], label=('Proposed'), marker='.', markersize=6,  color=\"blue\", linewidth=3)\n",
    "\n",
    "plt.plot(df_blocking_net6_4['load'], df_blocking_net6_4['Without defragmentation'], marker='x', markersize=6,  color=\"black\", linewidth=3)\n",
    "plt.plot(df_blocking_net6_4['load'], df_blocking_net6_4['Conventional'], label=('Conventional'), marker='^', markersize=6,  color=\"red\", linewidth=3)\n",
    "plt.plot(df_blocking_net6_4['load'], df_blocking_net6_4['Proposed'], label=('Proposed'), marker='.', markersize=6,  color=\"blue\", linewidth=3)\n",
    "\n",
    "plt.plot(df_blocking_net6_5['load'], df_blocking_net6_5['Without defragmentation'], marker='x', markersize=6,  color=\"black\", linewidth=3)\n",
    "plt.plot(df_blocking_net6_5['load'], df_blocking_net6_5['Conventional'], label=('Conventional'), marker='^', markersize=6,  color=\"red\", linewidth=3)\n",
    "plt.plot(df_blocking_net6_5['load'], df_blocking_net6_5['Proposed'], label=('Proposed'), marker='.', markersize=6,  color=\"blue\", linewidth=3)\n",
    "\n",
    "plt.xlabel(\"Traffic load [Erlang]\") # x軸のタイトル\n",
    "plt.ylabel(\"Blocking probability\") # y軸\n",
    "plt.legend(loc=\"lower right\")\n",
    "# plt.show()\n",
    "plt.savefig(\"../net6.pdf\")"
   ]
  },
  {
   "cell_type": "code",
   "execution_count": 163,
   "metadata": {
    "collapsed": false
   },
   "outputs": [
    {
     "data": {
      "text/plain": [
       "<Figure size 720x576 with 0 Axes>"
      ]
     },
     "metadata": {},
     "output_type": "display_data"
    }
   ],
   "source": []
  },
  {
   "cell_type": "code",
   "execution_count": null,
   "metadata": {
    "collapsed": true
   },
   "outputs": [],
   "source": []
  }
 ],
 "metadata": {
  "anaconda-cloud": {},
  "kernelspec": {
   "display_name": "Python [default]",
   "language": "python",
   "name": "python3"
  },
  "language_info": {
   "codemirror_mode": {
    "name": "ipython",
    "version": 3
   },
   "file_extension": ".py",
   "mimetype": "text/x-python",
   "name": "python",
   "nbconvert_exporter": "python",
   "pygments_lexer": "ipython3",
   "version": "3.5.2"
  }
 },
 "nbformat": 4,
 "nbformat_minor": 2
}
