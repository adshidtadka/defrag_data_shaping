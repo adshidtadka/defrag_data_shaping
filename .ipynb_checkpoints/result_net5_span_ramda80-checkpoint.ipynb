{
 "cells": [
  {
   "cell_type": "code",
   "execution_count": 1,
   "metadata": {
    "collapsed": false
   },
   "outputs": [
    {
     "name": "stdout",
     "output_type": "stream",
     "text": [
      "['blocked_205_b.csv', '.DS_Store', 'ssrr_lno_output.txt', 'ssrr_lno.lp', 'input_demands2.txt', 'ssr_lno_output.txt', 'input_demands1.txt', 'operation_num.csv', 'blocked_205_b.txt', 'ssr_lno.lp', 'ssr_lno_result.txt', 'ssr_lno_running.txt', 'ssrr_lno_result.txt']\n",
      "['blocked_205_b.csv', '.DS_Store', 'ssrr_lno_output.txt', 'ssrr_lno.lp', 'input_demands2.txt', 'ssr_lno_output.txt', 'input_demands1.txt', 'operation_num.csv', 'blocked_205_b.txt', 'ssr_lno.lp', 'ssr_lno_result.txt', 'ssr_lno_running.txt', 'ssrr_lno_result.txt']\n",
      "['blocked_205_b.csv', '.DS_Store', 'ssrr_lno_output.txt', 'ssrr_lno.lp', 'input_demands2.txt', 'ssr_lno_output.txt', 'input_demands1.txt', 'operation_num.csv', 'blocked_205_b.txt', 'ssr_lno.lp', 'ssr_lno_result.txt', 'ssr_lno_running.txt', 'ssrr_lno_result.txt']\n",
      "['blocked_205_b.csv', '.DS_Store', 'ssrr_lno_output.txt', 'ssrr_lno.lp', 'input_demands2.txt', 'ssr_lno_output.txt', 'input_demands1.txt', 'operation_num.csv', 'blocked_205_b.txt', 'ssr_lno.lp', 'ssr_lno_result.txt', 'ssr_lno_running.txt', 'ssrr_lno_result.txt']\n",
      "['blocked_205_b.csv', '.DS_Store', 'ssrr_lno_output.txt', 'ssrr_lno.lp', 'input_demands2.txt', 'ssr_lno_output.txt', 'input_demands1.txt', 'operation_num.csv', 'blocked_205_b.txt', 'ssr_lno.lp', 'ssr_lno_result.txt', 'ssr_lno_running.txt', 'ssrr_lno_result.txt']\n"
     ]
    }
   ],
   "source": [
    "import numpy as np \n",
    "import pandas as pd\n",
    "import matplotlib\n",
    "import matplotlib.pyplot as plt\n",
    "import os\n",
    "from pylab import rcParams\n",
    "print(os.listdir(\"../20180704_net5_speed0.2\"))\n",
    "print(os.listdir(\"../20180706_net5_rint_0.1\"))\n",
    "print(os.listdir(\"../20180718_net5_rint_1\"))\n",
    "print(os.listdir(\"../20180718_net5_rint_10\"))\n",
    "print(os.listdir(\"../20180718_net5_rint_10\"))"
   ]
  },
  {
   "cell_type": "code",
   "execution_count": 2,
   "metadata": {
    "collapsed": false
   },
   "outputs": [],
   "source": [
    "df_blocking_02 = pd.read_csv('../20180704_net5_speed0.2/blocked_205_b.csv', names = ('load', 'speed', 'Without defragmentation', 'Conventional', 'Proposed', 'Conventional with SSR-LNO', 'Proposed with SSRR-LNO') )\n",
    "df_blocking_01 = pd.read_csv('../20180706_net5_rint_0.1/blocked_205_b.csv', names = ('load', 'speed', 'Without defragmentation', 'Conventional', 'Proposed', 'Conventional with SSR-LNO', 'Proposed with SSRR-LNO') )\n",
    "df_blocking_1 = pd.read_csv('../20180718_net5_rint_1/blocked_205_b.csv', names = ('load', 'speed', 'Without defragmentation', 'Conventional', 'Proposed', 'Conventional with SSR-LNO', 'Proposed with SSRR-LNO') )\n",
    "df_blocking_10 = pd.read_csv('../20180718_net5_rint_10/blocked_205_b.csv', names = ('load', 'speed', 'Without defragmentation', 'Conventional', 'Proposed', 'Conventional with SSR-LNO', 'Proposed with SSRR-LNO') )\n",
    "df_blocking_100 = pd.read_csv('../20180718_net5_rint_100/blocked_205_b.csv', names = ('load', 'speed', 'Without defragmentation', 'Conventional', 'Proposed', 'Conventional with SSR-LNO', 'Proposed with SSRR-LNO') )"
   ]
  },
  {
   "cell_type": "code",
   "execution_count": 3,
   "metadata": {
    "collapsed": false
   },
   "outputs": [],
   "source": [
    "for index, row in df_blocking_02.iterrows():\n",
    "    df_blocking_02.loc[index, 'Without defragmentation':'Proposed with SSRR-LNO'] /= [10000, 10000, 10000, 10000, 10000]\n",
    "for index, row in df_blocking_01.iterrows():\n",
    "    df_blocking_01.loc[index, 'Without defragmentation':'Proposed with SSRR-LNO'] /= [10000, 10000, 10000, 10000, 10000]\n",
    "for index, row in df_blocking_1.iterrows():\n",
    "    df_blocking_1.loc[index, 'Without defragmentation':'Proposed with SSRR-LNO'] /= [10000, 10000, 10000, 10000, 10000]\n",
    "for index, row in df_blocking_10.iterrows():\n",
    "    df_blocking_10.loc[index, 'Without defragmentation':'Proposed with SSRR-LNO'] /= [10000, 10000, 10000, 10000, 10000]\n",
    "for index, row in df_blocking_100.iterrows():\n",
    "    df_blocking_100.loc[index, 'Without defragmentation':'Proposed with SSRR-LNO'] /= [10000, 10000, 10000, 10000, 10000]"
   ]
  },
  {
   "cell_type": "code",
   "execution_count": 4,
   "metadata": {
    "collapsed": true
   },
   "outputs": [],
   "source": [
    "plt.clf()\n",
    "plt.rcParams['figure.figsize'] = 30,24\n",
    "plt.rcParams['xtick.direction'] = 'in'#x軸の目盛線が内向き('in')か外向き('out')か双方向か('inout')\n",
    "plt.rcParams['ytick.direction'] = 'in'#y軸の目盛線が内向き('in')か外向き('out')か双方向か('inout')\n",
    "plt.rcParams['font.family'] ='Times New Roman'#使用するフォント\n",
    "plt.rcParams['font.size'] = 8 #フォントの大きさ\n",
    "plt.rcParams['axes.linewidth'] = 1.0# 軸の線幅edge linewidth。囲みの太さ"
   ]
  },
  {
   "cell_type": "code",
   "execution_count": 5,
   "metadata": {
    "collapsed": false
   },
   "outputs": [],
   "source": [
    "plt.yscale(\"log\")\n",
    "plt.plot(df_blocking_02['load'], df_blocking_02['Without defragmentation'], marker='x', markersize=12,  color=\"black\", linewidth=3)\n",
    "\n",
    "plt.plot(df_blocking_01['load'], df_blocking_01['Conventional'], label=('Conventional (' + r'$\\gamma$' + ' = 100)'), marker='^', markersize=12,  color=\"red\", linewidth=3)\n",
    "plt.plot(df_blocking_01['load'], df_blocking_01['Proposed'], label=('Proposed (' + r'$\\gamma$' + ' = 100)'), marker='.', markersize=12,  color=\"blue\", linewidth=3)\n",
    "\n",
    "plt.plot(df_blocking_1['load'], df_blocking_1['Conventional'], label=('Conventional (' + r'$\\gamma$' + ' = 1000)'), marker='^', markersize=12,  color=\"red\", linewidth=3, linestyle='--')\n",
    "plt.plot(df_blocking_1['load'], df_blocking_1['Proposed'], label=('Proposed (' + r'$\\gamma$' + ' = 1000)'), marker='.', markersize=12,  color=\"blue\", linewidth=3, linestyle='--')\n",
    "\n",
    "plt.plot(df_blocking_10['load'], df_blocking_10['Conventional'], label=('Conventional (' + r'$\\gamma$' + ' = 10000)'), marker='^', markersize=12,  color=\"red\", linewidth=3, linestyle='-.')\n",
    "plt.plot(df_blocking_10['load'], df_blocking_10['Proposed'], label=('Proposed (' + r'$\\gamma$' + ' = 10000)'), marker='.', markersize=12,  color=\"blue\", linewidth=3, linestyle='-.')\n",
    "\n",
    "plt.plot(df_blocking_100['load'], df_blocking_100['Conventional'], label=('Conventional (' + r'$\\gamma$' + ' = 100000)'), marker='^', markersize=12,  color=\"red\", linewidth=3, linestyle=':')\n",
    "plt.plot(df_blocking_100['load'], df_blocking_100['Proposed'], label=('Proposed (' + r'$\\gamma$' + ' = 100000)'), marker='.', markersize=12,  color=\"blue\", linewidth=3, linestyle=':')\n",
    "\n",
    "plt.xlabel(\"Traffic load [Erlang]\") # x軸のタイトル\n",
    "plt.ylabel(\"Blocking probability\") # y軸\n",
    "plt.legend(loc=\"lower right\")\n",
    "# plt.show()\n",
    "plt.savefig(\"../span_net5.pdf\")"
   ]
  },
  {
   "cell_type": "code",
   "execution_count": null,
   "metadata": {
    "collapsed": true
   },
   "outputs": [],
   "source": []
  },
  {
   "cell_type": "code",
   "execution_count": null,
   "metadata": {
    "collapsed": true
   },
   "outputs": [],
   "source": [
    " "
   ]
  }
 ],
 "metadata": {
  "anaconda-cloud": {},
  "kernelspec": {
   "display_name": "Python [default]",
   "language": "python",
   "name": "python3"
  },
  "language_info": {
   "codemirror_mode": {
    "name": "ipython",
    "version": 3
   },
   "file_extension": ".py",
   "mimetype": "text/x-python",
   "name": "python",
   "nbconvert_exporter": "python",
   "pygments_lexer": "ipython3",
   "version": "3.5.2"
  }
 },
 "nbformat": 4,
 "nbformat_minor": 2
}
