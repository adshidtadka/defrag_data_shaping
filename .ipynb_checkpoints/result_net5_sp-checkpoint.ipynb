{
 "cells": [
  {
   "cell_type": "code",
   "execution_count": 1,
   "metadata": {
    "collapsed": false
   },
   "outputs": [
    {
     "name": "stdout",
     "output_type": "stream",
     "text": [
      "['blocked_205_b.csv', '.DS_Store', 'ssrr_lno_output.txt', 'ssrr_lno.lp', 'input_demands2.txt', 'ssr_lno_output.txt', 'input_demands1.txt', 'operation_num.csv', 'blocked_205_b.txt', 'ssr_lno.lp', 'ssr_lno_result.txt', 'ssr_lno_running.txt', 'ssrr_lno_result.txt']\n",
      "['blocked_205_b.csv', '.DS_Store', 'ssrr_lno_output.txt', 'ssrr_lno.lp', 'input_demands2.txt', 'ssr_lno_output.txt', 'input_demands1.txt', 'operation_num.csv', 'blocked_205_b.txt', 'ssr_lno.lp', 'ssr_lno_result.txt', 'ssr_lno_running.txt', 'ssrr_lno_result.txt']\n"
     ]
    }
   ],
   "source": [
    "import numpy as np \n",
    "import pandas as pd\n",
    "import matplotlib\n",
    "import matplotlib.pyplot as plt\n",
    "import os\n",
    "from pylab import rcParams\n",
    "print(os.listdir(\"../20180619_net5_speed0.02\"))\n",
    "print(os.listdir(\"../20180619_net5_speed0.05\"))"
   ]
  },
  {
   "cell_type": "code",
   "execution_count": 9,
   "metadata": {
    "collapsed": true
   },
   "outputs": [],
   "source": [
    "df_blocking_002 = pd.read_csv('../20180619_net5_speed0.02/blocked_205_b.csv', names = ('load', 'speed', 'Without defragmentation', 'Conventional', 'Proposed', 'Conventional with SSR-LNO', 'Proposed with SSRR-LNO') )\n",
    "df_blocking_005 = pd.read_csv('../20180619_net5_speed0.05/blocked_205_b.csv', names = ('load', 'speed', 'Without defragmentation', 'Conventional', 'Proposed', 'Conventional with SSR-LNO', 'Proposed with SSRR-LNO') )"
   ]
  },
  {
   "cell_type": "code",
   "execution_count": 10,
   "metadata": {
    "collapsed": false
   },
   "outputs": [
    {
     "name": "stdout",
     "output_type": "stream",
     "text": [
      "    load  speed  Without defragmentation  Conventional  Proposed  \\\n",
      "0     50   0.02                        3             0         0   \n",
      "1     60   0.02                       63             2         0   \n",
      "2     70   0.02                      272            21         1   \n",
      "3     80   0.02                      598           118        36   \n",
      "4     90   0.02                      961           336       183   \n",
      "5    100   0.02                     1300           641       455   \n",
      "6    110   0.02                     1665           978       790   \n",
      "7    120   0.02                     2004          1323      1134   \n",
      "8    130   0.02                     2271          1626      1484   \n",
      "9    140   0.02                     2539          1956      1776   \n",
      "10   150   0.02                     2796          2196      2092   \n",
      "\n",
      "    Conventional with SSR-LNO  Proposed with SSRR-LNO  \n",
      "0                           0                       0  \n",
      "1                           0                       0  \n",
      "2                           0                       0  \n",
      "3                           0                       0  \n",
      "4                           0                       0  \n",
      "5                           0                       0  \n",
      "6                           0                       0  \n",
      "7                           0                       0  \n",
      "8                           0                       0  \n",
      "9                           0                       0  \n",
      "10                          0                       0  \n",
      "    load  speed  Without defragmentation  Conventional  Proposed  \\\n",
      "0     50   0.05                        3             0         0   \n",
      "1     60   0.05                       63             2         0   \n",
      "2     70   0.05                      272            18         1   \n",
      "3     80   0.05                      598           115        35   \n",
      "4     90   0.05                      961           329       186   \n",
      "5    100   0.05                     1300           645       465   \n",
      "6    110   0.05                     1665           963       783   \n",
      "7    120   0.05                     2004          1296      1160   \n",
      "8    130   0.05                     2271          1629      1495   \n",
      "9    140   0.05                     2539          1950      1764   \n",
      "10   150   0.05                     2796          2206      2052   \n",
      "\n",
      "    Conventional with SSR-LNO  Proposed with SSRR-LNO  \n",
      "0                           0                       0  \n",
      "1                           0                       0  \n",
      "2                           0                       0  \n",
      "3                           0                       0  \n",
      "4                           0                       0  \n",
      "5                           0                       0  \n",
      "6                           0                       0  \n",
      "7                           0                       0  \n",
      "8                           0                       0  \n",
      "9                           0                       0  \n",
      "10                          0                       0  \n"
     ]
    }
   ],
   "source": [
    "print(df_blocking_002)\n",
    "\n",
    "print(df_blocking_005)"
   ]
  },
  {
   "cell_type": "code",
   "execution_count": 11,
   "metadata": {
    "collapsed": false
   },
   "outputs": [],
   "source": [
    "for index, row in df_blocking_002.iterrows():\n",
    "    df_blocking_002.loc[index, 'Without defragmentation':'Proposed with SSRR-LNO'] /= [10000, 10000, 10000, 10000, 10000]\n",
    "for index, row in df_blocking_005.iterrows():\n",
    "    df_blocking_005.loc[index, 'Without defragmentation':'Proposed with SSRR-LNO'] /= [10000, 10000, 10000, 10000, 10000]"
   ]
  },
  {
   "cell_type": "code",
   "execution_count": 12,
   "metadata": {
    "collapsed": false
   },
   "outputs": [
    {
     "data": {
      "text/html": [
       "<div>\n",
       "<table border=\"1\" class=\"dataframe\">\n",
       "  <thead>\n",
       "    <tr style=\"text-align: right;\">\n",
       "      <th></th>\n",
       "      <th>load</th>\n",
       "      <th>speed</th>\n",
       "      <th>Without defragmentation</th>\n",
       "      <th>Conventional</th>\n",
       "      <th>Proposed</th>\n",
       "      <th>Conventional with SSR-LNO</th>\n",
       "      <th>Proposed with SSRR-LNO</th>\n",
       "    </tr>\n",
       "  </thead>\n",
       "  <tbody>\n",
       "    <tr>\n",
       "      <th>0</th>\n",
       "      <td>50</td>\n",
       "      <td>0.05</td>\n",
       "      <td>0.0003</td>\n",
       "      <td>0.0000</td>\n",
       "      <td>0.0000</td>\n",
       "      <td>0.0</td>\n",
       "      <td>0.0</td>\n",
       "    </tr>\n",
       "    <tr>\n",
       "      <th>1</th>\n",
       "      <td>60</td>\n",
       "      <td>0.05</td>\n",
       "      <td>0.0063</td>\n",
       "      <td>0.0002</td>\n",
       "      <td>0.0000</td>\n",
       "      <td>0.0</td>\n",
       "      <td>0.0</td>\n",
       "    </tr>\n",
       "    <tr>\n",
       "      <th>2</th>\n",
       "      <td>70</td>\n",
       "      <td>0.05</td>\n",
       "      <td>0.0272</td>\n",
       "      <td>0.0018</td>\n",
       "      <td>0.0001</td>\n",
       "      <td>0.0</td>\n",
       "      <td>0.0</td>\n",
       "    </tr>\n",
       "    <tr>\n",
       "      <th>3</th>\n",
       "      <td>80</td>\n",
       "      <td>0.05</td>\n",
       "      <td>0.0598</td>\n",
       "      <td>0.0115</td>\n",
       "      <td>0.0035</td>\n",
       "      <td>0.0</td>\n",
       "      <td>0.0</td>\n",
       "    </tr>\n",
       "    <tr>\n",
       "      <th>4</th>\n",
       "      <td>90</td>\n",
       "      <td>0.05</td>\n",
       "      <td>0.0961</td>\n",
       "      <td>0.0329</td>\n",
       "      <td>0.0186</td>\n",
       "      <td>0.0</td>\n",
       "      <td>0.0</td>\n",
       "    </tr>\n",
       "    <tr>\n",
       "      <th>5</th>\n",
       "      <td>100</td>\n",
       "      <td>0.05</td>\n",
       "      <td>0.1300</td>\n",
       "      <td>0.0645</td>\n",
       "      <td>0.0465</td>\n",
       "      <td>0.0</td>\n",
       "      <td>0.0</td>\n",
       "    </tr>\n",
       "    <tr>\n",
       "      <th>6</th>\n",
       "      <td>110</td>\n",
       "      <td>0.05</td>\n",
       "      <td>0.1665</td>\n",
       "      <td>0.0963</td>\n",
       "      <td>0.0783</td>\n",
       "      <td>0.0</td>\n",
       "      <td>0.0</td>\n",
       "    </tr>\n",
       "    <tr>\n",
       "      <th>7</th>\n",
       "      <td>120</td>\n",
       "      <td>0.05</td>\n",
       "      <td>0.2004</td>\n",
       "      <td>0.1296</td>\n",
       "      <td>0.1160</td>\n",
       "      <td>0.0</td>\n",
       "      <td>0.0</td>\n",
       "    </tr>\n",
       "    <tr>\n",
       "      <th>8</th>\n",
       "      <td>130</td>\n",
       "      <td>0.05</td>\n",
       "      <td>0.2271</td>\n",
       "      <td>0.1629</td>\n",
       "      <td>0.1495</td>\n",
       "      <td>0.0</td>\n",
       "      <td>0.0</td>\n",
       "    </tr>\n",
       "    <tr>\n",
       "      <th>9</th>\n",
       "      <td>140</td>\n",
       "      <td>0.05</td>\n",
       "      <td>0.2539</td>\n",
       "      <td>0.1950</td>\n",
       "      <td>0.1764</td>\n",
       "      <td>0.0</td>\n",
       "      <td>0.0</td>\n",
       "    </tr>\n",
       "    <tr>\n",
       "      <th>10</th>\n",
       "      <td>150</td>\n",
       "      <td>0.05</td>\n",
       "      <td>0.2796</td>\n",
       "      <td>0.2206</td>\n",
       "      <td>0.2052</td>\n",
       "      <td>0.0</td>\n",
       "      <td>0.0</td>\n",
       "    </tr>\n",
       "  </tbody>\n",
       "</table>\n",
       "</div>"
      ],
      "text/plain": [
       "    load  speed  Without defragmentation  Conventional  Proposed  \\\n",
       "0     50   0.05                   0.0003        0.0000    0.0000   \n",
       "1     60   0.05                   0.0063        0.0002    0.0000   \n",
       "2     70   0.05                   0.0272        0.0018    0.0001   \n",
       "3     80   0.05                   0.0598        0.0115    0.0035   \n",
       "4     90   0.05                   0.0961        0.0329    0.0186   \n",
       "5    100   0.05                   0.1300        0.0645    0.0465   \n",
       "6    110   0.05                   0.1665        0.0963    0.0783   \n",
       "7    120   0.05                   0.2004        0.1296    0.1160   \n",
       "8    130   0.05                   0.2271        0.1629    0.1495   \n",
       "9    140   0.05                   0.2539        0.1950    0.1764   \n",
       "10   150   0.05                   0.2796        0.2206    0.2052   \n",
       "\n",
       "    Conventional with SSR-LNO  Proposed with SSRR-LNO  \n",
       "0                         0.0                     0.0  \n",
       "1                         0.0                     0.0  \n",
       "2                         0.0                     0.0  \n",
       "3                         0.0                     0.0  \n",
       "4                         0.0                     0.0  \n",
       "5                         0.0                     0.0  \n",
       "6                         0.0                     0.0  \n",
       "7                         0.0                     0.0  \n",
       "8                         0.0                     0.0  \n",
       "9                         0.0                     0.0  \n",
       "10                        0.0                     0.0  "
      ]
     },
     "execution_count": 12,
     "metadata": {},
     "output_type": "execute_result"
    }
   ],
   "source": [
    "df_blocking_005"
   ]
  },
  {
   "cell_type": "code",
   "execution_count": 31,
   "metadata": {
    "collapsed": true
   },
   "outputs": [],
   "source": [
    "plt.clf()\n",
    "plt.rcParams['figure.figsize'] = 20,16\n",
    "plt.rcParams['xtick.direction'] = 'in'#x軸の目盛線が内向き('in')か外向き('out')か双方向か('inout')\n",
    "plt.rcParams['ytick.direction'] = 'in'#y軸の目盛線が内向き('in')か外向き('out')か双方向か('inout')\n",
    "plt.rcParams['font.family'] ='Times New Roman'#使用するフォント\n",
    "plt.rcParams['font.size'] = 20 #フォントの大きさ\n",
    "plt.rcParams['axes.linewidth'] = 1.0# 軸の線幅edge linewidth。囲みの太さ"
   ]
  },
  {
   "cell_type": "code",
   "execution_count": 32,
   "metadata": {
    "collapsed": false
   },
   "outputs": [],
   "source": [
    "plt.yscale(\"log\")\n",
    "plt.plot(df_blocking_002['load'], df_blocking_002['Without defragmentation'], marker='x', markersize=12,  color=\"black\", linewidth=3)\n",
    "\n",
    "plt.plot(df_blocking_002['load'], df_blocking_002['Conventional'], label=('Conventional (' + r'$\\beta$' + ' = 0.02)'), marker='^', markersize=12,  color=\"red\", linewidth=3)\n",
    "plt.plot(df_blocking_002['load'], df_blocking_002['Proposed'], label=('Proposed (' + r'$\\beta$' + ' = 0.02)'), marker='.', markersize=12,  color=\"blue\", linewidth=3)\n",
    "\n",
    "plt.plot(df_blocking_005['load'], df_blocking_005['Conventional'], label=('Conventional (' + r'$\\beta$' + ' = 0.05)'), marker='^', markersize=12,  color=\"red\", linewidth=3, linestyle='--')\n",
    "plt.plot(df_blocking_005['load'], df_blocking_005['Proposed'], label=('Proposed (' + r'$\\beta$' + ' = 0.05)'), marker='.', markersize=12,  color=\"blue\", linewidth=3, linestyle='--')\n",
    "\n",
    "plt.xlabel(\"Traffic load [Erlang]\") # x軸のタイトル\n",
    "plt.ylabel(\"Blocking probability\") # y軸\n",
    "plt.legend(loc=\"upper left\")\n",
    "# plt.show()\n",
    "plt.savefig(\"../speeding_net5.pdf\")"
   ]
  },
  {
   "cell_type": "code",
   "execution_count": 163,
   "metadata": {
    "collapsed": false
   },
   "outputs": [
    {
     "data": {
      "text/plain": [
       "<Figure size 720x576 with 0 Axes>"
      ]
     },
     "metadata": {},
     "output_type": "display_data"
    }
   ],
   "source": []
  },
  {
   "cell_type": "code",
   "execution_count": null,
   "metadata": {
    "collapsed": true
   },
   "outputs": [],
   "source": []
  }
 ],
 "metadata": {
  "anaconda-cloud": {},
  "kernelspec": {
   "display_name": "Python [default]",
   "language": "python",
   "name": "python3"
  },
  "language_info": {
   "codemirror_mode": {
    "name": "ipython",
    "version": 3
   },
   "file_extension": ".py",
   "mimetype": "text/x-python",
   "name": "python",
   "nbconvert_exporter": "python",
   "pygments_lexer": "ipython3",
   "version": "3.5.2"
  }
 },
 "nbformat": 4,
 "nbformat_minor": 2
}
