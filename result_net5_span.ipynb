{
 "cells": [
  {
   "cell_type": "code",
   "execution_count": 7,
   "metadata": {
    "collapsed": false
   },
   "outputs": [
    {
     "name": "stdout",
     "output_type": "stream",
     "text": [
      "['blocked_205_b.csv', '.DS_Store', 'ssrr_lno_output.txt', 'ssrr_lno.lp', 'input_demands2.txt', 'ssr_lno_output.txt', 'input_demands1.txt', 'operation_num.csv', 'blocked_205_b.txt', 'ssr_lno.lp', 'ssr_lno_result.txt', 'ssr_lno_running.txt', 'ssrr_lno_result.txt']\n",
      "['blocked_205_b.csv', '.DS_Store', 'ssrr_lno_output.txt', 'ssrr_lno.lp', 'input_demands2.txt', 'ssr_lno_output.txt', 'input_demands1.txt', 'operation_num.csv', 'blocked_205_b.txt', 'ssr_lno.lp', 'ssr_lno_result.txt', 'ssr_lno_running.txt', 'ssrr_lno_result.txt']\n",
      "['blocked_205_b.csv', '.DS_Store', 'ssrr_lno_output.txt', 'ssrr_lno.lp', 'input_demands2.txt', 'ssr_lno_output.txt', 'input_demands1.txt', 'operation_num.csv', 'blocked_205_b.txt', 'ssr_lno.lp', 'ssr_lno_result.txt', 'ssr_lno_running.txt', 'ssrr_lno_result.txt']\n",
      "['blocked_205_b.csv', '.DS_Store', 'ssrr_lno_output.txt', 'ssrr_lno.lp', 'input_demands2.txt', 'ssr_lno_output.txt', 'input_demands1.txt', 'operation_num.csv', 'blocked_205_b.txt', 'ssr_lno.lp', 'ssr_lno_result.txt', 'ssr_lno_running.txt', 'ssrr_lno_result.txt']\n",
      "['blocked_205_b.csv', '.DS_Store', 'ssrr_lno_output.txt', 'ssrr_lno.lp', 'input_demands2.txt', 'ssr_lno_output.txt', 'input_demands1.txt', 'operation_num.csv', 'blocked_205_b.txt', 'ssr_lno.lp', 'ssr_lno_result.txt', 'ssr_lno_running.txt', 'ssrr_lno_result.txt']\n"
     ]
    }
   ],
   "source": [
    "import numpy as np \n",
    "import pandas as pd\n",
    "import matplotlib\n",
    "import matplotlib.pyplot as plt\n",
    "import os\n",
    "from pylab import rcParams\n",
    "print(os.listdir(\"../20180704_net5_speed0.2\"))\n",
    "print(os.listdir(\"../20180706_net5_rint_0.1\"))\n",
    "print(os.listdir(\"../20180718_net5_rint_1\"))\n",
    "print(os.listdir(\"../20180718_net5_rint_10\"))\n",
    "print(os.listdir(\"../20180718_net5_rint_10\"))"
   ]
  },
  {
   "cell_type": "code",
   "execution_count": 19,
   "metadata": {
    "collapsed": false
   },
   "outputs": [],
   "source": [
    "df_blocking_02 = pd.read_csv('../20180704_net5_speed0.2/blocked_205_b.csv', names = ('load', 'speed', 'Without defragmentation', 'Conventional', 'Proposed', 'Conventional with SSR-LNO', 'Proposed with SSRR-LNO') )\n",
    "df_blocking_01 = pd.read_csv('../20180706_net5_rint_0.1/blocked_205_b.csv', names = ('load', 'speed', 'Without defragmentation', 'Conventional', 'Proposed', 'Conventional with SSR-LNO', 'Proposed with SSRR-LNO') )\n",
    "df_blocking_1 = pd.read_csv('../20180718_net5_rint_1/blocked_205_b.csv', names = ('load', 'speed', 'Without defragmentation', 'Conventional', 'Proposed', 'Conventional with SSR-LNO', 'Proposed with SSRR-LNO') )\n",
    "df_blocking_10 = pd.read_csv('../20180718_net5_rint_10/blocked_205_b.csv', names = ('load', 'speed', 'Without defragmentation', 'Conventional', 'Proposed', 'Conventional with SSR-LNO', 'Proposed with SSRR-LNO') )\n",
    "df_blocking_100 = pd.read_csv('../20180718_net5_rint_100/blocked_205_b.csv', names = ('load', 'speed', 'Without defragmentation', 'Conventional', 'Proposed', 'Conventional with SSR-LNO', 'Proposed with SSRR-LNO') )"
   ]
  },
  {
   "cell_type": "code",
   "execution_count": 20,
   "metadata": {
    "collapsed": false
   },
   "outputs": [],
   "source": [
    "for index, row in df_blocking_02.iterrows():\n",
    "    df_blocking_02.loc[index, 'Without defragmentation':'Proposed with SSRR-LNO'] /= [10000, 10000, 10000, 10000, 10000]\n",
    "for index, row in df_blocking_01.iterrows():\n",
    "    df_blocking_01.loc[index, 'Without defragmentation':'Proposed with SSRR-LNO'] /= [10000, 10000, 10000, 10000, 10000]\n",
    "for index, row in df_blocking_1.iterrows():\n",
    "    df_blocking_1.loc[index, 'Without defragmentation':'Proposed with SSRR-LNO'] /= [10000, 10000, 10000, 10000, 10000]\n",
    "for index, row in df_blocking_10.iterrows():\n",
    "    df_blocking_10.loc[index, 'Without defragmentation':'Proposed with SSRR-LNO'] /= [10000, 10000, 10000, 10000, 10000]\n",
    "for index, row in df_blocking_100.iterrows():\n",
    "    df_blocking_100.loc[index, 'Without defragmentation':'Proposed with SSRR-LNO'] /= [10000, 10000, 10000, 10000, 10000]"
   ]
  },
  {
   "cell_type": "code",
   "execution_count": 21,
   "metadata": {
    "collapsed": false
   },
   "outputs": [
    {
     "name": "stdout",
     "output_type": "stream",
     "text": [
      "    load  Conventional  Proposed  Conventional  Proposed\n",
      "0     50        0.0000    0.0000        0.0000    0.0000\n",
      "1     60        0.0021    0.0000        0.0002    0.0000\n",
      "2     70        0.0149    0.0001        0.0026    0.0002\n",
      "3     80        0.0413    0.0040        0.0139    0.0039\n",
      "4     90        0.0737    0.0189        0.0381    0.0185\n",
      "5    100        0.1135    0.0473        0.0708    0.0458\n",
      "6    110        0.1475    0.0801        0.1059    0.0793\n",
      "7    120        0.1825    0.1165        0.1427    0.1146\n",
      "8    130        0.2097    0.1481        0.1703    0.1470\n",
      "9    140        0.2365    0.1767        0.2024    0.1783\n",
      "10   150        0.2632    0.2062        0.2299    0.2092\n"
     ]
    }
   ],
   "source": [
    "print(pd.concat([df_blocking_02.loc[:, ['load', 'Conventional', 'Proposed']], df_blocking_01.loc[:, [ 'Conventional', 'Proposed']]], axis=1))"
   ]
  },
  {
   "cell_type": "code",
   "execution_count": 34,
   "metadata": {
    "collapsed": true
   },
   "outputs": [],
   "source": [
    "plt.clf()\n",
    "plt.rcParams['figure.figsize'] = 30,24\n",
    "plt.rcParams['xtick.direction'] = 'in'#x軸の目盛線が内向き('in')か外向き('out')か双方向か('inout')\n",
    "plt.rcParams['ytick.direction'] = 'in'#y軸の目盛線が内向き('in')か外向き('out')か双方向か('inout')\n",
    "plt.rcParams['font.family'] ='Times New Roman'#使用するフォント\n",
    "plt.rcParams['font.size'] = 8 #フォントの大きさ\n",
    "plt.rcParams['axes.linewidth'] = 1.0# 軸の線幅edge linewidth。囲みの太さ"
   ]
  },
  {
   "cell_type": "code",
   "execution_count": 35,
   "metadata": {
    "collapsed": false
   },
   "outputs": [],
   "source": [
    "plt.yscale(\"log\")\n",
    "plt.plot(df_blocking_02['load'], df_blocking_02['Without defragmentation'], marker='x', markersize=12,  color=\"black\", linewidth=3)\n",
    "\n",
    "plt.plot(df_blocking_01['load'], df_blocking_01['Conventional'], label=('Conventional (' + r'$\\gamma$' + ' = 100)'), marker='^', markersize=12,  color=\"red\", linewidth=3)\n",
    "plt.plot(df_blocking_01['load'], df_blocking_01['Proposed'], label=('Proposed (' + r'$\\gamma$' + ' = 100)'), marker='.', markersize=12,  color=\"blue\", linewidth=3)\n",
    "\n",
    "plt.plot(df_blocking_1['load'], df_blocking_1['Conventional'], label=('Conventional (' + r'$\\gamma$' + ' = 1000)'), marker='^', markersize=12,  color=\"red\", linewidth=3, linestyle='--')\n",
    "plt.plot(df_blocking_1['load'], df_blocking_1['Proposed'], label=('Proposed (' + r'$\\gamma$' + ' = 1000)'), marker='.', markersize=12,  color=\"blue\", linewidth=3, linestyle='--')\n",
    "\n",
    "plt.plot(df_blocking_10['load'], df_blocking_10['Conventional'], label=('Conventional (' + r'$\\gamma$' + ' = 10000)'), marker='^', markersize=12,  color=\"red\", linewidth=3, linestyle='-.')\n",
    "plt.plot(df_blocking_10['load'], df_blocking_10['Proposed'], label=('Proposed (' + r'$\\gamma$' + ' = 10000)'), marker='.', markersize=12,  color=\"blue\", linewidth=3, linestyle='-.')\n",
    "\n",
    "plt.plot(df_blocking_100['load'], df_blocking_100['Conventional'], label=('Conventional (' + r'$\\gamma$' + ' = 100000)'), marker='^', markersize=12,  color=\"red\", linewidth=3, linestyle=':')\n",
    "plt.plot(df_blocking_100['load'], df_blocking_100['Proposed'], label=('Proposed (' + r'$\\gamma$' + ' = 100000)'), marker='.', markersize=12,  color=\"blue\", linewidth=3, linestyle=':')\n",
    "\n",
    "plt.xlabel(\"Traffic load [Erlang]\") # x軸のタイトル\n",
    "plt.ylabel(\"Blocking probability\") # y軸\n",
    "plt.legend(loc=\"lower right\")\n",
    "# plt.show()\n",
    "plt.savefig(\"../span_net5.pdf\")"
   ]
  },
  {
   "cell_type": "code",
   "execution_count": null,
   "metadata": {
    "collapsed": true
   },
   "outputs": [],
   "source": []
  },
  {
   "cell_type": "code",
   "execution_count": null,
   "metadata": {
    "collapsed": true
   },
   "outputs": [],
   "source": [
    " "
   ]
  }
 ],
 "metadata": {
  "anaconda-cloud": {},
  "kernelspec": {
   "display_name": "Python [default]",
   "language": "python",
   "name": "python3"
  },
  "language_info": {
   "codemirror_mode": {
    "name": "ipython",
    "version": 3
   },
   "file_extension": ".py",
   "mimetype": "text/x-python",
   "name": "python",
   "nbconvert_exporter": "python",
   "pygments_lexer": "ipython3",
   "version": "3.5.2"
  }
 },
 "nbformat": 4,
 "nbformat_minor": 2
}
