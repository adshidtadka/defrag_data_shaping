{
 "cells": [
  {
   "cell_type": "code",
   "execution_count": 1,
   "metadata": {
    "collapsed": false
   },
   "outputs": [
    {
     "name": "stdout",
     "output_type": "stream",
     "text": [
      "['blocked_205_b.csv', '.DS_Store', 'ssrr_lno_output.txt', 'ssrr_lno.lp', 'input_demands2.txt', 'ssr_lno_output.txt', 'input_demands1.txt', 'operation_num.csv', 'blocked_205_b.txt', 'ssr_lno.lp', 'ssr_lno_result.txt', 'ssr_lno_running.txt', 'ssrr_lno_result.txt']\n",
      "['blocked_205_b.csv', '.DS_Store', 'ssrr_lno_output.txt', 'ssrr_lno.lp', 'input_demands2.txt', 'ssr_lno_output.txt', 'input_demands1.txt', 'operation_num.csv', 'blocked_205_b.txt', 'ssr_lno.lp', 'ssr_lno_result.txt', 'ssr_lno_running.txt', 'ssrr_lno_result.txt']\n"
     ]
    }
   ],
   "source": [
    "import numpy as np \n",
    "import pandas as pd\n",
    "import matplotlib\n",
    "import matplotlib.pyplot as plt\n",
    "import os\n",
    "from pylab import rcParams\n",
    "print(os.listdir(\"../20180706_net14_speed0.1\"))\n",
    "print(os.listdir(\"../20180706_net14_rint_0.1\"))"
   ]
  },
  {
   "cell_type": "code",
   "execution_count": 2,
   "metadata": {
    "collapsed": true
   },
   "outputs": [],
   "source": [
    "df_blocking_001 = pd.read_csv('../20180706_net14_speed0.1/blocked_205_b.csv', names = ('load', 'speed', 'Without defragmentation', 'Conventional', 'Proposed', 'Conventional with SSR-LNO', 'Proposed with SSRR-LNO') )\n",
    "df_blocking_002 = pd.read_csv('../20180706_net14_speed0.2/blocked_205_b.csv', names = ('load', 'speed', 'Without defragmentation', 'Conventional', 'Proposed', 'Conventional with SSR-LNO', 'Proposed with SSRR-LNO') )"
   ]
  },
  {
   "cell_type": "code",
   "execution_count": 3,
   "metadata": {
    "collapsed": false
   },
   "outputs": [
    {
     "name": "stdout",
     "output_type": "stream",
     "text": [
      "    load  speed  Without defragmentation  Conventional  Proposed  \\\n",
      "0    120      1                       25            15         0   \n",
      "1    130      1                       82            32         0   \n",
      "2    140      1                      170           105         0   \n",
      "3    150      1                      297           206         0   \n",
      "4    160      1                      442           349         0   \n",
      "5    170      1                      578           493         8   \n",
      "6    180      1                      762           634        33   \n",
      "7    190      1                      930           807        86   \n",
      "8    200      1                     1069           973       191   \n",
      "9    210      1                     1221          1129       309   \n",
      "10   220      1                     1373          1297       445   \n",
      "\n",
      "    Conventional with SSR-LNO  Proposed with SSRR-LNO  \n",
      "0                           0                       0  \n",
      "1                           0                       0  \n",
      "2                           0                       0  \n",
      "3                           0                       0  \n",
      "4                           0                       0  \n",
      "5                           0                       0  \n",
      "6                           0                       0  \n",
      "7                           0                       0  \n",
      "8                           0                       0  \n",
      "9                           0                       0  \n",
      "10                          0                       0  \n",
      "    load  speed  Without defragmentation  Conventional  Proposed  \\\n",
      "0    120      1                       25            12         0   \n",
      "1    130      1                       82            49         0   \n",
      "2    140      1                      170           114         0   \n",
      "3    150      1                      297           224         0   \n",
      "4    160      1                      442           350         0   \n",
      "5    170      1                      578           491         6   \n",
      "6    180      1                      762           673        33   \n",
      "7    190      1                      930           811        92   \n",
      "8    200      1                     1069           979       194   \n",
      "9    210      1                     1221          1141       314   \n",
      "10   220      1                     1373          1289       447   \n",
      "\n",
      "    Conventional with SSR-LNO  Proposed with SSRR-LNO  \n",
      "0                           0                       0  \n",
      "1                           0                       0  \n",
      "2                           0                       0  \n",
      "3                           0                       0  \n",
      "4                           0                       0  \n",
      "5                           0                       0  \n",
      "6                           0                       0  \n",
      "7                           0                       0  \n",
      "8                           0                       0  \n",
      "9                           0                       0  \n",
      "10                          0                       0  \n"
     ]
    }
   ],
   "source": [
    "print(df_blocking_001)\n",
    "print(df_blocking_002)"
   ]
  },
  {
   "cell_type": "code",
   "execution_count": 4,
   "metadata": {
    "collapsed": false
   },
   "outputs": [],
   "source": [
    "for index, row in df_blocking_001.iterrows():\n",
    "    df_blocking_001.loc[index, 'Without defragmentation':'Proposed with SSRR-LNO'] /= [10000, 10000, 10000, 10000, 10000]\n",
    "for index, row in df_blocking_002.iterrows():\n",
    "    df_blocking_002.loc[index, 'Without defragmentation':'Proposed with SSRR-LNO'] /= [10000, 10000, 10000, 10000, 10000]"
   ]
  },
  {
   "cell_type": "code",
   "execution_count": 14,
   "metadata": {
    "collapsed": true
   },
   "outputs": [],
   "source": [
    "plt.clf()\n",
    "plt.rcParams['figure.figsize'] = 30,24\n",
    "plt.rcParams['xtick.direction'] = 'in'#x軸の目盛線が内向き('in')か外向き('out')か双方向か('inout')\n",
    "plt.rcParams['ytick.direction'] = 'in'#y軸の目盛線が内向き('in')か外向き('out')か双方向か('inout')\n",
    "plt.rcParams['font.family'] ='Times New Roman'#使用するフォント\n",
    "plt.rcParams['font.size'] = 8 #フォントの大きさ\n",
    "plt.rcParams['axes.linewidth'] = 1.0# 軸の線幅edge linewidth。囲みの太さ"
   ]
  },
  {
   "cell_type": "code",
   "execution_count": 15,
   "metadata": {
    "collapsed": false
   },
   "outputs": [],
   "source": [
    "plt.yscale(\"log\")\n",
    "plt.plot(df_blocking_002['load'], df_blocking_002['Without defragmentation'], marker='x', markersize=12,  color=\"black\", linewidth=3)\n",
    "\n",
    "plt.plot(df_blocking_001['load'], df_blocking_001['Conventional'], label=('Conventional (' + r'$\\gamma$' + ' = 200)'), marker='^', markersize=12,  color=\"red\", linewidth=3)\n",
    "plt.plot(df_blocking_001['load'], df_blocking_001['Proposed'], label=('Proposed (' + r'$\\gamma$' + ' = 200)'), marker='.', markersize=12,  color=\"blue\", linewidth=3)\n",
    "\n",
    "plt.plot(df_blocking_002['load'], df_blocking_002['Conventional'], label=('Conventional (' + r'$\\gamma$' + ' = 100)'), marker='^', markersize=12,  color=\"red\", linewidth=3, linestyle='--')\n",
    "plt.plot(df_blocking_002['load'], df_blocking_002['Proposed'], label=('Proposed (' + r'$\\gamma$' + ' = 100)'), marker='.', markersize=12,  color=\"blue\", linewidth=3, linestyle='--')\n",
    "\n",
    "plt.xlabel(\"Traffic load [Erlang]\") # x軸のタイトル\n",
    "plt.ylabel(\"Blocking probability\") # y軸\n",
    "plt.legend(loc=\"upper left\")\n",
    "# plt.show()\n",
    "plt.savefig(\"../span_net14.pdf\")"
   ]
  },
  {
   "cell_type": "code",
   "execution_count": 163,
   "metadata": {
    "collapsed": false
   },
   "outputs": [
    {
     "data": {
      "text/plain": [
       "<Figure size 720x576 with 0 Axes>"
      ]
     },
     "metadata": {},
     "output_type": "display_data"
    }
   ],
   "source": []
  },
  {
   "cell_type": "code",
   "execution_count": null,
   "metadata": {
    "collapsed": true
   },
   "outputs": [],
   "source": []
  }
 ],
 "metadata": {
  "anaconda-cloud": {},
  "kernelspec": {
   "display_name": "Python [default]",
   "language": "python",
   "name": "python3"
  },
  "language_info": {
   "codemirror_mode": {
    "name": "ipython",
    "version": 3
   },
   "file_extension": ".py",
   "mimetype": "text/x-python",
   "name": "python",
   "nbconvert_exporter": "python",
   "pygments_lexer": "ipython3",
   "version": "3.5.2"
  }
 },
 "nbformat": 4,
 "nbformat_minor": 2
}
