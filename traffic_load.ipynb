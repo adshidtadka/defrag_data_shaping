{
 "cells": [
  {
   "cell_type": "code",
   "execution_count": 43,
   "metadata": {
    "collapsed": false
   },
   "outputs": [],
   "source": [
    "import numpy as np \n",
    "import pandas as pd\n",
    "import matplotlib\n",
    "import matplotlib.pyplot as plt\n",
    "import os\n",
    "import pylab\n",
    "from pylab import rcParams"
   ]
  },
  {
   "cell_type": "code",
   "execution_count": 216,
   "metadata": {
    "collapsed": true
   },
   "outputs": [],
   "source": [
    "def calc_def(x_1, y_1, y_2, x_3, y_3, y_4, x_5, y_5, y_6):\n",
    "    bef = (0.1 - 10 * y_1) / (y_2 - y_1) + x_1\n",
    "    aft_conv = (0.1 - 10 * y_3) / (y_4 - y_3) + x_3\n",
    "    aft_prop = (0.1 - 10 * y_5) / (y_6 - y_5) + x_5\n",
    "    gamma = (aft_prop - aft_conv) / aft_conv\n",
    "    return [bef, aft_conv, aft_prop, gamma]"
   ]
  },
  {
   "cell_type": "code",
   "execution_count": 217,
   "metadata": {
    "collapsed": false
   },
   "outputs": [
    {
     "data": {
      "text/plain": [
       "[70.22346368715084, 75.07575757575758, 88.29545454545455, 0.1760847628657921]"
      ]
     },
     "execution_count": 217,
     "metadata": {},
     "output_type": "execute_result"
    }
   ],
   "source": [
    "abilene = calc_def(70, 0.0096,0.0275,70, 0.0033,0.0165,80,0.0027,0.0115)\n",
    "abilene"
   ]
  },
  {
   "cell_type": "code",
   "execution_count": 218,
   "metadata": {
    "collapsed": false
   },
   "outputs": [
    {
     "data": {
      "text/plain": [
       "[132.04545454545453,\n",
       " 139.31506849315068,\n",
       " 191.33333333333334,\n",
       " 0.3733857751556868]"
      ]
     },
     "execution_count": 218,
     "metadata": {},
     "output_type": "execute_result"
    }
   ],
   "source": [
    "nsf = calc_def(130, 0.0082, 0.0170, 130, 0.0032, 0.0105, 190, 0.0086, 0.0191)\n",
    "nsf"
   ]
  },
  {
   "cell_type": "code",
   "execution_count": 219,
   "metadata": {
    "collapsed": false
   },
   "outputs": [
    {
     "data": {
      "text/plain": [
       "[133.46153846153845,\n",
       " 140.61855670103094,\n",
       " 186.5079365079365,\n",
       " 0.32633943117814074]"
      ]
     },
     "execution_count": 219,
     "metadata": {},
     "output_type": "execute_result"
    }
   ],
   "source": [
    "indian = calc_def(130, 0.0073, 0.0151, 140, 0.0094, 0.0191, 180, 0.0059, 0.0122)\n",
    "indian"
   ]
  },
  {
   "cell_type": "code",
   "execution_count": 220,
   "metadata": {
    "collapsed": false
   },
   "outputs": [
    {
     "data": {
      "text/plain": [
       "[93.19587628865979, 99.33333333333333, 144.59016393442624, 0.45560567719221057]"
      ]
     },
     "execution_count": 220,
     "metadata": {},
     "output_type": "execute_result"
    }
   ],
   "source": [
    "japanese = calc_def(90, 0.0069, 0.0166, 90, 0.0044, 0.0104, 140, 0.0072, 0.0133)\n",
    "japanese"
   ]
  },
  {
   "cell_type": "code",
   "execution_count": 204,
   "metadata": {
    "collapsed": false
   },
   "outputs": [],
   "source": [
    "tr_ld = pd.DataFrame(\n",
    "    columns=['Conventional', 'Proposed']\n",
    ")"
   ]
  },
  {
   "cell_type": "code",
   "execution_count": 205,
   "metadata": {
    "collapsed": false
   },
   "outputs": [
    {
     "data": {
      "text/html": [
       "<div>\n",
       "<style scoped>\n",
       "    .dataframe tbody tr th:only-of-type {\n",
       "        vertical-align: middle;\n",
       "    }\n",
       "\n",
       "    .dataframe tbody tr th {\n",
       "        vertical-align: top;\n",
       "    }\n",
       "\n",
       "    .dataframe thead th {\n",
       "        text-align: right;\n",
       "    }\n",
       "</style>\n",
       "<table border=\"1\" class=\"dataframe\">\n",
       "  <thead>\n",
       "    <tr style=\"text-align: right;\">\n",
       "      <th></th>\n",
       "      <th>Conventional</th>\n",
       "      <th>Proposed</th>\n",
       "    </tr>\n",
       "  </thead>\n",
       "  <tbody>\n",
       "  </tbody>\n",
       "</table>\n",
       "</div>"
      ],
      "text/plain": [
       "Empty DataFrame\n",
       "Columns: [Conventional, Proposed]\n",
       "Index: []"
      ]
     },
     "execution_count": 205,
     "metadata": {},
     "output_type": "execute_result"
    }
   ],
   "source": [
    "tr_ld"
   ]
  },
  {
   "cell_type": "code",
   "execution_count": 206,
   "metadata": {
    "collapsed": false
   },
   "outputs": [],
   "source": [
    "tr_ld.loc['Abilene'] = abilene "
   ]
  },
  {
   "cell_type": "code",
   "execution_count": 207,
   "metadata": {
    "collapsed": false
   },
   "outputs": [],
   "source": [
    "tr_ld.loc['NSF'] = nsf"
   ]
  },
  {
   "cell_type": "code",
   "execution_count": 208,
   "metadata": {
    "collapsed": true
   },
   "outputs": [],
   "source": [
    "tr_ld.loc['Indian'] = indian"
   ]
  },
  {
   "cell_type": "code",
   "execution_count": 209,
   "metadata": {
    "collapsed": true
   },
   "outputs": [],
   "source": [
    "tr_ld.loc['Japanese'] = japanese"
   ]
  },
  {
   "cell_type": "code",
   "execution_count": 210,
   "metadata": {
    "collapsed": false
   },
   "outputs": [
    {
     "data": {
      "text/html": [
       "<div>\n",
       "<style scoped>\n",
       "    .dataframe tbody tr th:only-of-type {\n",
       "        vertical-align: middle;\n",
       "    }\n",
       "\n",
       "    .dataframe tbody tr th {\n",
       "        vertical-align: top;\n",
       "    }\n",
       "\n",
       "    .dataframe thead th {\n",
       "        text-align: right;\n",
       "    }\n",
       "</style>\n",
       "<table border=\"1\" class=\"dataframe\">\n",
       "  <thead>\n",
       "    <tr style=\"text-align: right;\">\n",
       "      <th></th>\n",
       "      <th>Conventional</th>\n",
       "      <th>Proposed</th>\n",
       "    </tr>\n",
       "  </thead>\n",
       "  <tbody>\n",
       "    <tr>\n",
       "      <th>Abilene</th>\n",
       "      <td>4.852294</td>\n",
       "      <td>18.071991</td>\n",
       "    </tr>\n",
       "    <tr>\n",
       "      <th>NSF</th>\n",
       "      <td>7.269614</td>\n",
       "      <td>59.287879</td>\n",
       "    </tr>\n",
       "    <tr>\n",
       "      <th>Indian</th>\n",
       "      <td>7.157018</td>\n",
       "      <td>53.046398</td>\n",
       "    </tr>\n",
       "    <tr>\n",
       "      <th>Japanese</th>\n",
       "      <td>6.137457</td>\n",
       "      <td>51.394288</td>\n",
       "    </tr>\n",
       "  </tbody>\n",
       "</table>\n",
       "</div>"
      ],
      "text/plain": [
       "          Conventional   Proposed\n",
       "Abilene       4.852294  18.071991\n",
       "NSF           7.269614  59.287879\n",
       "Indian        7.157018  53.046398\n",
       "Japanese      6.137457  51.394288"
      ]
     },
     "execution_count": 210,
     "metadata": {},
     "output_type": "execute_result"
    }
   ],
   "source": [
    "tr_ld"
   ]
  },
  {
   "cell_type": "code",
   "execution_count": 211,
   "metadata": {
    "collapsed": false
   },
   "outputs": [],
   "source": [
    "plt.clf()\n",
    "pylab.figure(figsize=(7, 7))\n",
    "plt.rcParams['xtick.direction'] = 'in'\n",
    "plt.rcParams['ytick.direction'] = 'in'\n",
    "plt.gca().yaxis.set_ticks_position('left')\n",
    "plt.gca().xaxis.set_ticks_position('bottom')\n",
    "plt.rcParams['font.family'] ='Times New Roman'\n",
    "plt.rcParams['font.weight'] = 'light'\n",
    "plt.rcParams['font.size'] = 18\n",
    "plt.rcParams['axes.linewidth'] = 0.8\n",
    "plt.rcParams['lines.linewidth'] = 3\n",
    "plt.rcParams['lines.markersize'] = 8\n",
    "plt.rcParams['legend.fontsize'] = 18\n",
    "plt.rcParams['legend.borderaxespad'] = 0\n",
    "plt.rcParams['legend.frameon'] = False\n",
    "plt.rcParams['legend.numpoints'] = 1\n",
    "plt.rcParams['legend.labelspacing'] = 0.1\n",
    "plt.rcParams['savefig.bbox'] = 'tight'"
   ]
  },
  {
   "cell_type": "code",
   "execution_count": 212,
   "metadata": {
    "collapsed": false
   },
   "outputs": [
    {
     "data": {
      "text/plain": [
       "<Figure size 432x288 with 0 Axes>"
      ]
     },
     "metadata": {},
     "output_type": "display_data"
    },
    {
     "data": {
      "image/png": "[encoded data removed]",
      "text/plain": [
       "<Figure size 504x504 with 1 Axes>"
      ]
     },
     "metadata": {},
     "output_type": "display_data"
    }
   ],
   "source": [
    "x = tr_ld.index.values\n",
    "\n",
    "x_position = np.arange(len(x))\n",
    "\n",
    "plt.bar(x_position,       tr_ld['Conventional'], width=0.3, label='Conventional', color='red') \n",
    "plt.bar(x_position + 0.35, tr_ld['Proposed']    , width=0.3, label='Proposed'    , color='blue') \n",
    "plt.legend()\n",
    "plt.minorticks_off()\n",
    "plt.xticks(x_position + 0.175, x)\n",
    "plt.xlabel('Networks')\n",
    "plt.ylabel('Admissible traffic load [Erlang]')\n",
    "\n",
    "plt.savefig(\"../../sawa_paper/sawa/20180921_journal/fig/traffic_load.pdf\")\n",
    "plt.show()\n",
    "plt.close()"
   ]
  },
  {
   "cell_type": "code",
   "execution_count": null,
   "metadata": {
    "collapsed": true
   },
   "outputs": [],
   "source": []
  }
 ],
 "metadata": {
  "anaconda-cloud": {},
  "kernelspec": {
   "display_name": "Python [conda env:anaconda3-4.2.0]",
   "language": "python",
   "name": "conda-env-anaconda3-4.2.0-py"
  },
  "language_info": {
   "codemirror_mode": {
    "name": "ipython",
    "version": 3
   },
   "file_extension": ".py",
   "mimetype": "text/x-python",
   "name": "python",
   "nbconvert_exporter": "python",
   "pygments_lexer": "ipython3",
   "version": "3.5.5"
  }
 },
 "nbformat": 4,
 "nbformat_minor": 1
}
